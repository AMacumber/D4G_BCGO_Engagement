{
 "cells": [
  {
   "cell_type": "markdown",
   "metadata": {},
   "source": [
    "# Classification Analysis\n",
    "\n",
    "org: **D4G**  project: **BGCO**  task: **exploratory data analysis**\n",
    "\n",
    "data: labeled (engage vs. static) dataset highlighting changes in member engagement (visits per week) between first and year of engagement"
   ]
  },
  {
   "cell_type": "markdown",
   "metadata": {},
   "source": [
    "## Prep the environment"
   ]
  },
  {
   "cell_type": "code",
   "execution_count": 1,
   "metadata": {},
   "outputs": [],
   "source": [
    "import pandas as pd  # used to manipulate dataframes\n",
    "import numpy as np # used to manipulate series\n",
    "\n",
    "import seaborn as sns  # needed for visualing\n",
    "import matplotlib.pyplot as plt  # needed for visualing"
   ]
  },
  {
   "cell_type": "markdown",
   "metadata": {},
   "source": [
    "## Data Wrangling\n",
    "\n",
    "### Load Data\n",
    "\n",
    "* v001 - no postal code data\n",
    "* v002 - distance to clubhouse, neighborhood included"
   ]
  },
  {
   "cell_type": "code",
   "execution_count": 2,
   "metadata": {},
   "outputs": [],
   "source": [
    "# read in the dataframe\n",
    "df_001 = pd.read_csv(\"D4G_BGCO_Churn_Labeled_ForEDA_v002.csv\", encoding = \"cp1252\")"
   ]
  },
  {
   "cell_type": "markdown",
   "metadata": {},
   "source": [
    "## Version Control"
   ]
  },
  {
   "cell_type": "code",
   "execution_count": 3,
   "metadata": {},
   "outputs": [],
   "source": [
    "df = df_001"
   ]
  },
  {
   "cell_type": "code",
   "execution_count": 20,
   "metadata": {},
   "outputs": [
    {
     "name": "stdout",
     "output_type": "stream",
     "text": [
      "The data set has 1728 rows and 8 columns\n"
     ]
    }
   ],
   "source": [
    "print(\"The data set has {0} rows and {1} columns\".format(df.shape[0], df.shape[1]))"
   ]
  },
  {
   "cell_type": "code",
   "execution_count": 5,
   "metadata": {},
   "outputs": [
    {
     "data": {
      "text/html": [
       "<div>\n",
       "<style scoped>\n",
       "    .dataframe tbody tr th:only-of-type {\n",
       "        vertical-align: middle;\n",
       "    }\n",
       "\n",
       "    .dataframe tbody tr th {\n",
       "        vertical-align: top;\n",
       "    }\n",
       "\n",
       "    .dataframe thead th {\n",
       "        text-align: right;\n",
       "    }\n",
       "</style>\n",
       "<table border=\"1\" class=\"dataframe\">\n",
       "  <thead>\n",
       "    <tr style=\"text-align: right;\">\n",
       "      <th></th>\n",
       "      <th>d4g_member_id</th>\n",
       "      <th>label</th>\n",
       "      <th>first_year</th>\n",
       "      <th>member_location</th>\n",
       "      <th>sex</th>\n",
       "      <th>Y1_Age</th>\n",
       "      <th>checkin_total</th>\n",
       "      <th>season_most</th>\n",
       "      <th>club_km</th>\n",
       "    </tr>\n",
       "  </thead>\n",
       "  <tbody>\n",
       "    <tr>\n",
       "      <th>0</th>\n",
       "      <td>-2145542991</td>\n",
       "      <td>static</td>\n",
       "      <td>2013</td>\n",
       "      <td>BRIT</td>\n",
       "      <td>F</td>\n",
       "      <td>10</td>\n",
       "      <td>19</td>\n",
       "      <td>winter</td>\n",
       "      <td>1.22</td>\n",
       "    </tr>\n",
       "    <tr>\n",
       "      <th>1</th>\n",
       "      <td>-2145245024</td>\n",
       "      <td>static</td>\n",
       "      <td>2015</td>\n",
       "      <td>RID</td>\n",
       "      <td>M</td>\n",
       "      <td>17</td>\n",
       "      <td>1</td>\n",
       "      <td>winter</td>\n",
       "      <td>NaN</td>\n",
       "    </tr>\n",
       "    <tr>\n",
       "      <th>2</th>\n",
       "      <td>-2143641867</td>\n",
       "      <td>engaged</td>\n",
       "      <td>2009</td>\n",
       "      <td>BRIT</td>\n",
       "      <td>M</td>\n",
       "      <td>11</td>\n",
       "      <td>12</td>\n",
       "      <td>winter</td>\n",
       "      <td>7.08</td>\n",
       "    </tr>\n",
       "    <tr>\n",
       "      <th>3</th>\n",
       "      <td>-2140123971</td>\n",
       "      <td>static</td>\n",
       "      <td>2013</td>\n",
       "      <td>PYC</td>\n",
       "      <td>M</td>\n",
       "      <td>15</td>\n",
       "      <td>1</td>\n",
       "      <td>winter</td>\n",
       "      <td>7.74</td>\n",
       "    </tr>\n",
       "    <tr>\n",
       "      <th>4</th>\n",
       "      <td>-2140034903</td>\n",
       "      <td>static</td>\n",
       "      <td>2009</td>\n",
       "      <td>PYC</td>\n",
       "      <td>M</td>\n",
       "      <td>7</td>\n",
       "      <td>8</td>\n",
       "      <td>winter</td>\n",
       "      <td>7.51</td>\n",
       "    </tr>\n",
       "  </tbody>\n",
       "</table>\n",
       "</div>"
      ],
      "text/plain": [
       "   d4g_member_id    label  first_year member_location sex  Y1_Age  \\\n",
       "0    -2145542991   static        2013            BRIT   F      10   \n",
       "1    -2145245024   static        2015             RID   M      17   \n",
       "2    -2143641867  engaged        2009            BRIT   M      11   \n",
       "3    -2140123971   static        2013             PYC   M      15   \n",
       "4    -2140034903   static        2009             PYC   M       7   \n",
       "\n",
       "   checkin_total season_most  club_km  \n",
       "0             19      winter     1.22  \n",
       "1              1      winter      NaN  \n",
       "2             12      winter     7.08  \n",
       "3              1      winter     7.74  \n",
       "4              8      winter     7.51  "
      ]
     },
     "execution_count": 5,
     "metadata": {},
     "output_type": "execute_result"
    }
   ],
   "source": [
    "df.head()"
   ]
  },
  {
   "cell_type": "code",
   "execution_count": 6,
   "metadata": {},
   "outputs": [
    {
     "data": {
      "text/plain": [
       "Index(['d4g_member_id', 'label', 'first_year', 'member_location', 'sex',\n",
       "       'Y1_Age', 'checkin_total', 'season_most', 'club_km'],\n",
       "      dtype='object')"
      ]
     },
     "execution_count": 6,
     "metadata": {},
     "output_type": "execute_result"
    }
   ],
   "source": [
    "df.columns"
   ]
  },
  {
   "cell_type": "markdown",
   "metadata": {},
   "source": [
    "### Organise Features\n",
    "\n",
    "Postal code data is incomplete (~23% of the data is missing)"
   ]
  },
  {
   "cell_type": "code",
   "execution_count": 7,
   "metadata": {},
   "outputs": [],
   "source": [
    "df.dropna(inplace=True)"
   ]
  },
  {
   "cell_type": "code",
   "execution_count": 8,
   "metadata": {},
   "outputs": [],
   "source": [
    "df = df.drop(['d4g_member_id'], axis =1)\n",
    "\n",
    "categorical_features = ['member_location', 'sex', 'season_most']\n",
    "\n",
    "numerical_features = ['first_year', 'Y1_Age', 'checkin_total', 'club_km']\n",
    "\n",
    "target = ['label']"
   ]
  },
  {
   "cell_type": "markdown",
   "metadata": {},
   "source": [
    "## Numerical Features"
   ]
  },
  {
   "cell_type": "code",
   "execution_count": 9,
   "metadata": {},
   "outputs": [
    {
     "data": {
      "text/html": [
       "<div>\n",
       "<style scoped>\n",
       "    .dataframe tbody tr th:only-of-type {\n",
       "        vertical-align: middle;\n",
       "    }\n",
       "\n",
       "    .dataframe tbody tr th {\n",
       "        vertical-align: top;\n",
       "    }\n",
       "\n",
       "    .dataframe thead th {\n",
       "        text-align: right;\n",
       "    }\n",
       "</style>\n",
       "<table border=\"1\" class=\"dataframe\">\n",
       "  <thead>\n",
       "    <tr style=\"text-align: right;\">\n",
       "      <th></th>\n",
       "      <th>first_year</th>\n",
       "      <th>Y1_Age</th>\n",
       "      <th>checkin_total</th>\n",
       "      <th>club_km</th>\n",
       "    </tr>\n",
       "  </thead>\n",
       "  <tbody>\n",
       "    <tr>\n",
       "      <th>count</th>\n",
       "      <td>1728.000000</td>\n",
       "      <td>1728.000000</td>\n",
       "      <td>1728.000000</td>\n",
       "      <td>1728.000000</td>\n",
       "    </tr>\n",
       "    <tr>\n",
       "      <th>mean</th>\n",
       "      <td>2013.614005</td>\n",
       "      <td>10.567708</td>\n",
       "      <td>10.531829</td>\n",
       "      <td>15.495828</td>\n",
       "    </tr>\n",
       "    <tr>\n",
       "      <th>std</th>\n",
       "      <td>2.856492</td>\n",
       "      <td>3.067856</td>\n",
       "      <td>10.368996</td>\n",
       "      <td>30.332139</td>\n",
       "    </tr>\n",
       "    <tr>\n",
       "      <th>min</th>\n",
       "      <td>2009.000000</td>\n",
       "      <td>2.000000</td>\n",
       "      <td>1.000000</td>\n",
       "      <td>0.000000</td>\n",
       "    </tr>\n",
       "    <tr>\n",
       "      <th>25%</th>\n",
       "      <td>2011.000000</td>\n",
       "      <td>8.000000</td>\n",
       "      <td>2.000000</td>\n",
       "      <td>4.530000</td>\n",
       "    </tr>\n",
       "    <tr>\n",
       "      <th>50%</th>\n",
       "      <td>2014.000000</td>\n",
       "      <td>10.000000</td>\n",
       "      <td>7.000000</td>\n",
       "      <td>8.370000</td>\n",
       "    </tr>\n",
       "    <tr>\n",
       "      <th>75%</th>\n",
       "      <td>2016.000000</td>\n",
       "      <td>13.000000</td>\n",
       "      <td>16.000000</td>\n",
       "      <td>14.420000</td>\n",
       "    </tr>\n",
       "    <tr>\n",
       "      <th>max</th>\n",
       "      <td>2018.000000</td>\n",
       "      <td>19.000000</td>\n",
       "      <td>39.000000</td>\n",
       "      <td>395.210000</td>\n",
       "    </tr>\n",
       "  </tbody>\n",
       "</table>\n",
       "</div>"
      ],
      "text/plain": [
       "        first_year       Y1_Age  checkin_total      club_km\n",
       "count  1728.000000  1728.000000    1728.000000  1728.000000\n",
       "mean   2013.614005    10.567708      10.531829    15.495828\n",
       "std       2.856492     3.067856      10.368996    30.332139\n",
       "min    2009.000000     2.000000       1.000000     0.000000\n",
       "25%    2011.000000     8.000000       2.000000     4.530000\n",
       "50%    2014.000000    10.000000       7.000000     8.370000\n",
       "75%    2016.000000    13.000000      16.000000    14.420000\n",
       "max    2018.000000    19.000000      39.000000   395.210000"
      ]
     },
     "execution_count": 9,
     "metadata": {},
     "output_type": "execute_result"
    }
   ],
   "source": [
    "df[numerical_features].describe()"
   ]
  },
  {
   "cell_type": "code",
   "execution_count": 10,
   "metadata": {},
   "outputs": [
    {
     "data": {
      "text/plain": [
       "array([[<matplotlib.axes._subplots.AxesSubplot object at 0x0000017726D68128>,\n",
       "        <matplotlib.axes._subplots.AxesSubplot object at 0x0000017727430E48>],\n",
       "       [<matplotlib.axes._subplots.AxesSubplot object at 0x00000177274613C8>,\n",
       "        <matplotlib.axes._subplots.AxesSubplot object at 0x0000017727486940>]],\n",
       "      dtype=object)"
      ]
     },
     "execution_count": 10,
     "metadata": {},
     "output_type": "execute_result"
    },
    {
     "data": {
      "image/png": "[encoded data removed]",
      "text/plain": [
       "<Figure size 720x504 with 4 Axes>"
      ]
     },
     "metadata": {
      "needs_background": "light"
     },
     "output_type": "display_data"
    }
   ],
   "source": [
    "df[numerical_features].hist(bins=30, figsize=(10, 7))"
   ]
  },
  {
   "cell_type": "code",
   "execution_count": 13,
   "metadata": {},
   "outputs": [
    {
     "data": {
      "text/plain": [
       "array([<matplotlib.axes._subplots.AxesSubplot object at 0x00000177283F4A58>,\n",
       "       <matplotlib.axes._subplots.AxesSubplot object at 0x0000017728406208>,\n",
       "       <matplotlib.axes._subplots.AxesSubplot object at 0x000001772841F710>,\n",
       "       <matplotlib.axes._subplots.AxesSubplot object at 0x0000017727C77C88>],\n",
       "      dtype=object)"
      ]
     },
     "execution_count": 13,
     "metadata": {},
     "output_type": "execute_result"
    },
    {
     "data": {
      "image/png": "[encoded data removed]",
      "text/plain": [
       "<Figure size 1800x360 with 4 Axes>"
      ]
     },
     "metadata": {
      "needs_background": "light"
     },
     "output_type": "display_data"
    }
   ],
   "source": [
    "fig, ax = plt.subplots(1, 4, figsize=(25, 5))\n",
    "df[df.label == \"static\"][numerical_features].hist(bins=30, color=\"blue\", alpha=0.5, ax=ax)\n",
    "df[df.label == \"engaged\"][numerical_features].hist(bins=30, color=\"red\", alpha=0.5, ax=ax)"
   ]
  },
  {
   "cell_type": "markdown",
   "metadata": {},
   "source": [
    "## Categorical Features"
   ]
  },
  {
   "cell_type": "code",
   "execution_count": 14,
   "metadata": {},
   "outputs": [
    {
     "data": {
      "image/png": "[encoded data removed]",
      "text/plain": [
       "<Figure size 648x648 with 4 Axes>"
      ]
     },
     "metadata": {
      "needs_background": "light"
     },
     "output_type": "display_data"
    }
   ],
   "source": [
    "ROWS, COLS = 2, 2\n",
    "fig, ax = plt.subplots(ROWS, COLS, figsize=(9, 9))\n",
    "row, col = 0, 0\n",
    "for i, categorical_feature in enumerate(categorical_features):\n",
    "    if col == COLS - 1:\n",
    "        row += 1\n",
    "    col = i % COLS\n",
    "    df[categorical_feature].value_counts().plot('bar', ax=ax[row, col]).set_title(categorical_feature)"
   ]
  },
  {
   "cell_type": "code",
   "execution_count": 15,
   "metadata": {},
   "outputs": [
    {
     "data": {
      "text/plain": [
       "Text(0.5, 1.0, 'engaged')"
      ]
     },
     "execution_count": 15,
     "metadata": {},
     "output_type": "execute_result"
    },
    {
     "data": {
      "image/png": "[encoded data removed]",
      "text/plain": [
       "<Figure size 1008x288 with 2 Axes>"
      ]
     },
     "metadata": {
      "needs_background": "light"
     },
     "output_type": "display_data"
    }
   ],
   "source": [
    "feature = \"member_location\"\n",
    "fig, ax = plt.subplots(1, 2, figsize=(14, 4))\n",
    "df[df.label == \"static\"][feature].value_counts().plot('bar', ax=ax[0]).set_title('static')\n",
    "df[df.label == \"engaged\"][feature].value_counts().plot('bar', ax=ax[1]).set_title('engaged')"
   ]
  },
  {
   "cell_type": "code",
   "execution_count": 16,
   "metadata": {},
   "outputs": [
    {
     "data": {
      "text/plain": [
       "Text(0.5, 1.0, 'engaged')"
      ]
     },
     "execution_count": 16,
     "metadata": {},
     "output_type": "execute_result"
    },
    {
     "data": {
      "image/png": "[encoded data removed]",
      "text/plain": [
       "<Figure size 1008x288 with 2 Axes>"
      ]
     },
     "metadata": {
      "needs_background": "light"
     },
     "output_type": "display_data"
    }
   ],
   "source": [
    "feature = \"sex\"\n",
    "fig, ax = plt.subplots(1, 2, figsize=(14, 4))\n",
    "df[df.label == \"static\"][feature].value_counts().plot('bar', ax=ax[0]).set_title('static')\n",
    "df[df.label == \"engaged\"][feature].value_counts().plot('bar', ax=ax[1]).set_title('engaged')"
   ]
  },
  {
   "cell_type": "code",
   "execution_count": 17,
   "metadata": {},
   "outputs": [
    {
     "data": {
      "text/plain": [
       "Text(0.5, 1.0, 'engaged')"
      ]
     },
     "execution_count": 17,
     "metadata": {},
     "output_type": "execute_result"
    },
    {
     "data": {
      "image/png": "[encoded data removed]",
      "text/plain": [
       "<Figure size 1008x288 with 2 Axes>"
      ]
     },
     "metadata": {
      "needs_background": "light"
     },
     "output_type": "display_data"
    }
   ],
   "source": [
    "feature = \"season_most\"\n",
    "fig, ax = plt.subplots(1, 2, figsize=(14, 4))\n",
    "df[df.label == \"static\"][feature].value_counts().plot('bar', ax=ax[0]).set_title('static')\n",
    "df[df.label == \"engaged\"][feature].value_counts().plot('bar', ax=ax[1]).set_title('engaged')"
   ]
  },
  {
   "cell_type": "markdown",
   "metadata": {},
   "source": [
    "## Target Feature"
   ]
  },
  {
   "cell_type": "code",
   "execution_count": 18,
   "metadata": {},
   "outputs": [
    {
     "data": {
      "text/plain": [
       "Text(0.5, 1.0, 'engaged')"
      ]
     },
     "execution_count": 18,
     "metadata": {},
     "output_type": "execute_result"
    },
    {
     "data": {
      "image/png": "[encoded data removed]",
      "text/plain": [
       "<Figure size 432x288 with 1 Axes>"
      ]
     },
     "metadata": {
      "needs_background": "light"
     },
     "output_type": "display_data"
    }
   ],
   "source": [
    "df['label'].value_counts().plot('bar').set_title('engaged')"
   ]
  },
  {
   "cell_type": "markdown",
   "metadata": {},
   "source": [
    "## Encode Data"
   ]
  },
  {
   "cell_type": "code",
   "execution_count": 21,
   "metadata": {},
   "outputs": [],
   "source": [
    "#import Label Encoder\n",
    "from sklearn.preprocessing import LabelEncoder\n",
    "le = LabelEncoder()\n",
    "dummy_columns = [] #array for multiple value columns\n",
    "\n",
    "for column in df.columns:\n",
    "    if df[column].dtype == object and column != 'customerID':\n",
    "        if df[column].nunique() == 2:\n",
    "            #apply Label Encoder for binary ones\n",
    "            df[column] = le.fit_transform(df[column]) \n",
    "        else:\n",
    "            dummy_columns.append(column)\n",
    "            \n",
    "#apply get dummies for selected columns\n",
    "df = pd.get_dummies(data = df, columns = dummy_columns)"
   ]
  },
  {
   "cell_type": "code",
   "execution_count": 22,
   "metadata": {},
   "outputs": [
    {
     "data": {
      "text/html": [
       "<div>\n",
       "<style scoped>\n",
       "    .dataframe tbody tr th:only-of-type {\n",
       "        vertical-align: middle;\n",
       "    }\n",
       "\n",
       "    .dataframe tbody tr th {\n",
       "        vertical-align: top;\n",
       "    }\n",
       "\n",
       "    .dataframe thead th {\n",
       "        text-align: right;\n",
       "    }\n",
       "</style>\n",
       "<table border=\"1\" class=\"dataframe\">\n",
       "  <thead>\n",
       "    <tr style=\"text-align: right;\">\n",
       "      <th></th>\n",
       "      <th>label</th>\n",
       "      <th>first_year</th>\n",
       "      <th>sex</th>\n",
       "      <th>Y1_Age</th>\n",
       "      <th>checkin_total</th>\n",
       "      <th>season_most</th>\n",
       "      <th>club_km</th>\n",
       "      <th>member_location_BRC</th>\n",
       "      <th>member_location_BRIT</th>\n",
       "      <th>member_location_CAMP</th>\n",
       "      <th>member_location_HEA</th>\n",
       "      <th>member_location_MC</th>\n",
       "      <th>member_location_PYC</th>\n",
       "      <th>member_location_RGM</th>\n",
       "      <th>member_location_RID</th>\n",
       "      <th>member_location_ROC</th>\n",
       "    </tr>\n",
       "  </thead>\n",
       "  <tbody>\n",
       "    <tr>\n",
       "      <th>0</th>\n",
       "      <td>1</td>\n",
       "      <td>2013</td>\n",
       "      <td>0</td>\n",
       "      <td>10</td>\n",
       "      <td>19</td>\n",
       "      <td>1</td>\n",
       "      <td>1.22</td>\n",
       "      <td>0</td>\n",
       "      <td>1</td>\n",
       "      <td>0</td>\n",
       "      <td>0</td>\n",
       "      <td>0</td>\n",
       "      <td>0</td>\n",
       "      <td>0</td>\n",
       "      <td>0</td>\n",
       "      <td>0</td>\n",
       "    </tr>\n",
       "    <tr>\n",
       "      <th>2</th>\n",
       "      <td>0</td>\n",
       "      <td>2009</td>\n",
       "      <td>1</td>\n",
       "      <td>11</td>\n",
       "      <td>12</td>\n",
       "      <td>1</td>\n",
       "      <td>7.08</td>\n",
       "      <td>0</td>\n",
       "      <td>1</td>\n",
       "      <td>0</td>\n",
       "      <td>0</td>\n",
       "      <td>0</td>\n",
       "      <td>0</td>\n",
       "      <td>0</td>\n",
       "      <td>0</td>\n",
       "      <td>0</td>\n",
       "    </tr>\n",
       "    <tr>\n",
       "      <th>3</th>\n",
       "      <td>1</td>\n",
       "      <td>2013</td>\n",
       "      <td>1</td>\n",
       "      <td>15</td>\n",
       "      <td>1</td>\n",
       "      <td>1</td>\n",
       "      <td>7.74</td>\n",
       "      <td>0</td>\n",
       "      <td>0</td>\n",
       "      <td>0</td>\n",
       "      <td>0</td>\n",
       "      <td>0</td>\n",
       "      <td>1</td>\n",
       "      <td>0</td>\n",
       "      <td>0</td>\n",
       "      <td>0</td>\n",
       "    </tr>\n",
       "    <tr>\n",
       "      <th>4</th>\n",
       "      <td>1</td>\n",
       "      <td>2009</td>\n",
       "      <td>1</td>\n",
       "      <td>7</td>\n",
       "      <td>8</td>\n",
       "      <td>1</td>\n",
       "      <td>7.51</td>\n",
       "      <td>0</td>\n",
       "      <td>0</td>\n",
       "      <td>0</td>\n",
       "      <td>0</td>\n",
       "      <td>0</td>\n",
       "      <td>1</td>\n",
       "      <td>0</td>\n",
       "      <td>0</td>\n",
       "      <td>0</td>\n",
       "    </tr>\n",
       "    <tr>\n",
       "      <th>6</th>\n",
       "      <td>0</td>\n",
       "      <td>2017</td>\n",
       "      <td>1</td>\n",
       "      <td>9</td>\n",
       "      <td>35</td>\n",
       "      <td>1</td>\n",
       "      <td>5.30</td>\n",
       "      <td>0</td>\n",
       "      <td>0</td>\n",
       "      <td>0</td>\n",
       "      <td>0</td>\n",
       "      <td>0</td>\n",
       "      <td>1</td>\n",
       "      <td>0</td>\n",
       "      <td>0</td>\n",
       "      <td>0</td>\n",
       "    </tr>\n",
       "  </tbody>\n",
       "</table>\n",
       "</div>"
      ],
      "text/plain": [
       "   label  first_year  sex  Y1_Age  checkin_total  season_most  club_km  \\\n",
       "0      1        2013    0      10             19            1     1.22   \n",
       "2      0        2009    1      11             12            1     7.08   \n",
       "3      1        2013    1      15              1            1     7.74   \n",
       "4      1        2009    1       7              8            1     7.51   \n",
       "6      0        2017    1       9             35            1     5.30   \n",
       "\n",
       "   member_location_BRC  member_location_BRIT  member_location_CAMP  \\\n",
       "0                    0                     1                     0   \n",
       "2                    0                     1                     0   \n",
       "3                    0                     0                     0   \n",
       "4                    0                     0                     0   \n",
       "6                    0                     0                     0   \n",
       "\n",
       "   member_location_HEA  member_location_MC  member_location_PYC  \\\n",
       "0                    0                   0                    0   \n",
       "2                    0                   0                    0   \n",
       "3                    0                   0                    1   \n",
       "4                    0                   0                    1   \n",
       "6                    0                   0                    1   \n",
       "\n",
       "   member_location_RGM  member_location_RID  member_location_ROC  \n",
       "0                    0                    0                    0  \n",
       "2                    0                    0                    0  \n",
       "3                    0                    0                    0  \n",
       "4                    0                    0                    0  \n",
       "6                    0                    0                    0  "
      ]
     },
     "execution_count": 22,
     "metadata": {},
     "output_type": "execute_result"
    }
   ],
   "source": [
    "df.head()"
   ]
  },
  {
   "cell_type": "markdown",
   "metadata": {},
   "source": [
    "## Binary Classication Model with XGBoost"
   ]
  },
  {
   "cell_type": "code",
   "execution_count": 23,
   "metadata": {},
   "outputs": [],
   "source": [
    "from sklearn.model_selection import train_test_split\n",
    "import xgboost as xgb\n",
    "from sklearn.metrics import classification_report"
   ]
  },
  {
   "cell_type": "code",
   "execution_count": 24,
   "metadata": {},
   "outputs": [
    {
     "name": "stdout",
     "output_type": "stream",
     "text": [
      "Accuracy of XGB classifier on training set: 0.91\n",
      "Accuracy of XGB classifier on test set: 0.76\n",
      "              precision    recall  f1-score   support\n",
      "\n",
      "           0       0.50      0.19      0.28        21\n",
      "           1       0.78      0.94      0.86        66\n",
      "\n",
      "   micro avg       0.76      0.76      0.76        87\n",
      "   macro avg       0.64      0.56      0.57        87\n",
      "weighted avg       0.72      0.76      0.72        87\n",
      "\n"
     ]
    }
   ],
   "source": [
    "# create feature set and labels\n",
    "X = df.drop(['label'],axis=1)\n",
    "y = df.label\n",
    "\n",
    "# train and test split\n",
    "X_train, X_test, y_train, y_test = train_test_split(X, y, test_size=0.05, random_state=56)\n",
    "\n",
    "#building the model & printing the score\n",
    "xgb_model = xgb.XGBClassifier(max_depth=5, learning_rate=0.08, objective= 'binary:logistic',n_jobs=-1).fit(X_train, y_train)\n",
    "\n",
    "print('Accuracy of XGB classifier on training set: {:.2f}'\n",
    "       .format(xgb_model.score(X_train, y_train)))\n",
    "print('Accuracy of XGB classifier on test set: {:.2f}'\n",
    "       .format(xgb_model.score(X_test[X_train.columns], y_test)))\n",
    "\n",
    "y_pred = xgb_model.predict(X_test)\n",
    "print(classification_report(y_test, y_pred))"
   ]
  },
  {
   "cell_type": "code",
   "execution_count": 25,
   "metadata": {},
   "outputs": [
    {
     "data": {
      "text/plain": [
       "<matplotlib.axes._subplots.AxesSubplot at 0x1772a448470>"
      ]
     },
     "execution_count": 25,
     "metadata": {},
     "output_type": "execute_result"
    },
    {
     "data": {
      "image/png": "[encoded data removed]",
      "text/plain": [
       "<Figure size 720x576 with 1 Axes>"
      ]
     },
     "metadata": {
      "needs_background": "light"
     },
     "output_type": "display_data"
    }
   ],
   "source": [
    "from xgboost import plot_importance\n",
    "fig, ax = plt.subplots(figsize=(10,8))\n",
    "plot_importance(xgb_model, ax=ax)"
   ]
  },
  {
   "cell_type": "code",
   "execution_count": null,
   "metadata": {},
   "outputs": [],
   "source": []
  }
 ],
 "metadata": {
  "kernelspec": {
   "display_name": "Python 3",
   "language": "python",
   "name": "python3"
  },
  "language_info": {
   "codemirror_mode": {
    "name": "ipython",
    "version": 3
   },
   "file_extension": ".py",
   "mimetype": "text/x-python",
   "name": "python",
   "nbconvert_exporter": "python",
   "pygments_lexer": "ipython3",
   "version": "3.7.3"
  }
 },
 "nbformat": 4,
 "nbformat_minor": 2
}
