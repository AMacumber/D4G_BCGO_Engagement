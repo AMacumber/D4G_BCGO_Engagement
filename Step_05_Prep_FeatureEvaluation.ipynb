{
 "cells": [
  {
   "cell_type": "markdown",
   "metadata": {},
   "source": [
    "# Feature evaluation\n",
    "\n",
    "org: **D4G**  project: **BGCO**  task: **feature evaluation**\n",
    "\n",
    "data: labeled (engage vs. static) dataset highlighting changes in member engagement (visits per week) between first and year of engagement"
   ]
  },
  {
   "cell_type": "markdown",
   "metadata": {},
   "source": [
    "## Prep the environment"
   ]
  },
  {
   "cell_type": "code",
   "execution_count": 1,
   "metadata": {},
   "outputs": [],
   "source": [
    "import pandas as pd  # used to manipulate dataframes\n",
    "import numpy as np # used to manipulate series\n",
    "\n",
    "import seaborn as sns  # needed for visualing\n",
    "import matplotlib.pyplot as plt  # needed for visualing"
   ]
  },
  {
   "cell_type": "markdown",
   "metadata": {},
   "source": [
    "## Data Wrangling\n",
    "\n",
    "### Load Data"
   ]
  },
  {
   "cell_type": "code",
   "execution_count": 48,
   "metadata": {},
   "outputs": [],
   "source": [
    "# read in the dataframe\n",
    "df_001 = pd.read_csv(\"D4G_BGCO_Churn_Labeled.csv\", encoding = \"cp1252\")"
   ]
  },
  {
   "cell_type": "markdown",
   "metadata": {},
   "source": [
    "### Feature Evaluation"
   ]
  },
  {
   "cell_type": "code",
   "execution_count": 54,
   "metadata": {},
   "outputs": [],
   "source": [
    "df_002 = df_001.drop(droplist_unique, axis = 1)  # features with no unique values removed"
   ]
  },
  {
   "cell_type": "code",
   "execution_count": 55,
   "metadata": {},
   "outputs": [],
   "source": [
    "df_003 = df_002.drop(['member_identity', 'birth_year', 'age', 'city', 'active', 'd4g_valid_postal_code', 'checkin_avg'], axis = 1)  # redundant features"
   ]
  },
  {
   "cell_type": "code",
   "execution_count": 56,
   "metadata": {},
   "outputs": [],
   "source": [
    "df_004 = df_003.drop(['member_number'], axis = 1)  # erroneous aggregation"
   ]
  },
  {
   "cell_type": "code",
   "execution_count": 63,
   "metadata": {},
   "outputs": [],
   "source": [
    "df_005 = df_004.drop(droplist_missing, axis = 1)  # missing values exceed 20%"
   ]
  },
  {
   "cell_type": "code",
   "execution_count": 70,
   "metadata": {},
   "outputs": [],
   "source": [
    "df_006 = df_005.drop(imbalance, axis = 1)  # where one value count > 85%"
   ]
  },
  {
   "cell_type": "code",
   "execution_count": 71,
   "metadata": {},
   "outputs": [],
   "source": [
    "df = df_006"
   ]
  },
  {
   "cell_type": "code",
   "execution_count": 72,
   "metadata": {},
   "outputs": [
    {
     "name": "stdout",
     "output_type": "stream",
     "text": [
      "The training set has 2234 rows and 12 columns\n"
     ]
    }
   ],
   "source": [
    "print(\"The training set has {0} rows and {1} columns\".format(df.shape[0], df.shape[1]))"
   ]
  },
  {
   "cell_type": "code",
   "execution_count": 73,
   "metadata": {},
   "outputs": [],
   "source": [
    "df.to_csv(\"D4G_BGCO_Churn_Labeled_ForEDA.csv\", index = False)"
   ]
  },
  {
   "cell_type": "markdown",
   "metadata": {},
   "source": [
    "### Feature Summary\n",
    "\n",
    "Proposed\n",
    "* total number of visits to clubhouse in y1 (find out if clubhouse is a factor)\n",
    "* visits per week or month to clubhouse in y1 (find out if clubhouse is a factor)\n",
    "\n",
    "Key\n",
    "* d4g_member_id (primary key)\n",
    "\n",
    "Behaviour\n",
    "* label (target feature)\n",
    "* member_fees_total\n",
    "* total number of visits by member in y1\n",
    "* visits grouped by fall or winter\n",
    "\n",
    "Service\n",
    "* first_year: the first year of engagement\n",
    "* member_location: clubhouse visited\n",
    "\n",
    "Characteristic\n",
    "* Y1_Age: age at first_year\n",
    "* age category\n",
    "* sex\n",
    "* postal_code (see Conditional Inclusions)\n",
    "* d4g_school_id\n",
    "* grade\n",
    "\n",
    "Conditional Inclusions\n",
    "* first_language (only 60% of the dataset) (missing data)\n",
    "* postal_code (only 90% of the dataset) (missing data)\n",
    "* d4g_valid_postal_code (only 85% of the dataset) (missing data) (more accurate?)\n"
   ]
  },
  {
   "cell_type": "markdown",
   "metadata": {},
   "source": [
    "### Unique Values\n",
    "\n",
    "Number of unique values, if 1 or less should be removed."
   ]
  },
  {
   "cell_type": "code",
   "execution_count": 52,
   "metadata": {},
   "outputs": [
    {
     "data": {
      "text/plain": [
       "d4g_member_id              2234\n",
       "label                         2\n",
       "first_year                   10\n",
       "member_number              2106\n",
       "mem_type                      2\n",
       "active                        2\n",
       "member_location               9\n",
       "city                         41\n",
       "province                      3\n",
       "postal_code                1162\n",
       "d4g_valid_postal_code       640\n",
       "birth_year                   19\n",
       "sex                           2\n",
       "d4g_school_id               180\n",
       "grade                        13\n",
       "first_language                8\n",
       "second_language              10\n",
       "other_languages               7\n",
       "ethnic_origin                 1\n",
       "member_since               1042\n",
       "last_renewal_date           756\n",
       "member_type                   0\n",
       "member_fee_paid_to_date       1\n",
       "member_fee_outstanding        1\n",
       "member_fees_total             1\n",
       "suspended                     2\n",
       "camper                        2\n",
       "camp_year                     2\n",
       "member_identity            2234\n",
       "subsidy                       1\n",
       "hear_about                    2\n",
       "family_identity               2\n",
       "age                          19\n",
       "Y1_Age                       19\n",
       "checkin_total                39\n",
       "checkin_avg                  39\n",
       "age_category                  5\n",
       "season_most                   2\n",
       "dtype: int64"
      ]
     },
     "execution_count": 52,
     "metadata": {},
     "output_type": "execute_result"
    }
   ],
   "source": [
    "df.nunique()"
   ]
  },
  {
   "cell_type": "markdown",
   "metadata": {},
   "source": [
    "Create a list of columns with low unique value counts"
   ]
  },
  {
   "cell_type": "code",
   "execution_count": 53,
   "metadata": {},
   "outputs": [
    {
     "data": {
      "text/plain": [
       "['ethnic_origin',\n",
       " 'member_type',\n",
       " 'member_fee_paid_to_date',\n",
       " 'member_fee_outstanding',\n",
       " 'member_fees_total',\n",
       " 'subsidy']"
      ]
     },
     "execution_count": 53,
     "metadata": {},
     "output_type": "execute_result"
    }
   ],
   "source": [
    "droplist_unique = [i for i in df.columns if df[i].nunique('label') < 2]\n",
    "droplist_unique  # from df_001"
   ]
  },
  {
   "cell_type": "markdown",
   "metadata": {},
   "source": [
    "### Erroneous Aggregation"
   ]
  },
  {
   "cell_type": "markdown",
   "metadata": {},
   "source": [
    "Special case: Member numbers\n",
    "* the duplicates in this feature seem to correspond to different members\n",
    "* thus inclusion erroneously reduces variability, without adding qualifiers"
   ]
  },
  {
   "cell_type": "code",
   "execution_count": 11,
   "metadata": {},
   "outputs": [
    {
     "data": {
      "text/html": [
       "<div>\n",
       "<style scoped>\n",
       "    .dataframe tbody tr th:only-of-type {\n",
       "        vertical-align: middle;\n",
       "    }\n",
       "\n",
       "    .dataframe tbody tr th {\n",
       "        vertical-align: top;\n",
       "    }\n",
       "\n",
       "    .dataframe thead th {\n",
       "        text-align: right;\n",
       "    }\n",
       "</style>\n",
       "<table border=\"1\" class=\"dataframe\">\n",
       "  <thead>\n",
       "    <tr style=\"text-align: right;\">\n",
       "      <th></th>\n",
       "      <th>member_number</th>\n",
       "      <th>first_year</th>\n",
       "      <th>sex</th>\n",
       "      <th>Y1_Age</th>\n",
       "    </tr>\n",
       "  </thead>\n",
       "  <tbody>\n",
       "    <tr>\n",
       "      <th>813</th>\n",
       "      <td>00b4a051351b585e1f29ffce2b7ff5d2</td>\n",
       "      <td>2016</td>\n",
       "      <td>F</td>\n",
       "      <td>14</td>\n",
       "    </tr>\n",
       "    <tr>\n",
       "      <th>1563</th>\n",
       "      <td>00b4a051351b585e1f29ffce2b7ff5d2</td>\n",
       "      <td>2015</td>\n",
       "      <td>M</td>\n",
       "      <td>7</td>\n",
       "    </tr>\n",
       "    <tr>\n",
       "      <th>1299</th>\n",
       "      <td>0810026898d95f0d082b560bd31790e0</td>\n",
       "      <td>2012</td>\n",
       "      <td>F</td>\n",
       "      <td>7</td>\n",
       "    </tr>\n",
       "    <tr>\n",
       "      <th>2175</th>\n",
       "      <td>0810026898d95f0d082b560bd31790e0</td>\n",
       "      <td>2009</td>\n",
       "      <td>F</td>\n",
       "      <td>12</td>\n",
       "    </tr>\n",
       "    <tr>\n",
       "      <th>1987</th>\n",
       "      <td>0ae5e6b6663e3882cde21f6f71dba9ba</td>\n",
       "      <td>2015</td>\n",
       "      <td>M</td>\n",
       "      <td>14</td>\n",
       "    </tr>\n",
       "    <tr>\n",
       "      <th>335</th>\n",
       "      <td>0ae5e6b6663e3882cde21f6f71dba9ba</td>\n",
       "      <td>2009</td>\n",
       "      <td>M</td>\n",
       "      <td>6</td>\n",
       "    </tr>\n",
       "  </tbody>\n",
       "</table>\n",
       "</div>"
      ],
      "text/plain": [
       "                         member_number  first_year sex  Y1_Age\n",
       "813   00b4a051351b585e1f29ffce2b7ff5d2        2016   F      14\n",
       "1563  00b4a051351b585e1f29ffce2b7ff5d2        2015   M       7\n",
       "1299  0810026898d95f0d082b560bd31790e0        2012   F       7\n",
       "2175  0810026898d95f0d082b560bd31790e0        2009   F      12\n",
       "1987  0ae5e6b6663e3882cde21f6f71dba9ba        2015   M      14\n",
       "335   0ae5e6b6663e3882cde21f6f71dba9ba        2009   M       6"
      ]
     },
     "execution_count": 11,
     "metadata": {},
     "output_type": "execute_result"
    }
   ],
   "source": [
    "duplicates = df.duplicated('member_number', keep = False)\n",
    "df_duplicates = df[duplicates]\n",
    "df_duplicates[['member_number','first_year', 'sex', 'Y1_Age']].sort_values(by = 'member_number').head(6)"
   ]
  },
  {
   "cell_type": "markdown",
   "metadata": {},
   "source": [
    "### Missing Values\n",
    "\n",
    "How many features/attributes have missing values? Which ones?\n",
    "* df_004 used to exclude if missing > 20%"
   ]
  },
  {
   "cell_type": "code",
   "execution_count": 58,
   "metadata": {},
   "outputs": [
    {
     "name": "stdout",
     "output_type": "stream",
     "text": [
      "A total of  11 features have missing values\n",
      "They are: Index(['postal_code', 'grade', 'first_language', 'second_language',\n",
      "       'other_languages', 'member_since', 'last_renewal_date', 'camper',\n",
      "       'camp_year', 'hear_about', 'family_identity'],\n",
      "      dtype='object')\n"
     ]
    }
   ],
   "source": [
    "print(\"A total of \", len(df.columns[df.isnull().any()]), \"features have missing values\")\n",
    "print(\"They are:\", df.columns[df.isnull().any()])"
   ]
  },
  {
   "cell_type": "markdown",
   "metadata": {},
   "source": [
    "How many are missing?"
   ]
  },
  {
   "cell_type": "code",
   "execution_count": 59,
   "metadata": {},
   "outputs": [
    {
     "data": {
      "text/plain": [
       "camper                  1\n",
       "hear_about              1\n",
       "camp_year               5\n",
       "grade                  11\n",
       "postal_code           251\n",
       "member_since          485\n",
       "first_language        836\n",
       "last_renewal_date     914\n",
       "family_identity      1678\n",
       "second_language      2188\n",
       "other_languages      2220\n",
       "dtype: int64"
      ]
     },
     "execution_count": 59,
     "metadata": {},
     "output_type": "execute_result"
    }
   ],
   "source": [
    "miss = df.isnull().sum() #number of missing entries in each feature / number of total entries\n",
    "miss = miss[miss > 0] # keep only those that are greater than \"0 / number of total entries\"\n",
    "miss.sort_values(inplace=True) # sort by percentage ascending\n",
    "miss # display"
   ]
  },
  {
   "cell_type": "markdown",
   "metadata": {},
   "source": [
    "What is the percentage of missing values?"
   ]
  },
  {
   "cell_type": "code",
   "execution_count": 60,
   "metadata": {},
   "outputs": [
    {
     "data": {
      "text/plain": [
       "camper               0.000448\n",
       "hear_about           0.000448\n",
       "camp_year            0.002238\n",
       "grade                0.004924\n",
       "postal_code          0.112355\n",
       "member_since         0.217099\n",
       "first_language       0.374217\n",
       "last_renewal_date    0.409132\n",
       "family_identity      0.751119\n",
       "second_language      0.979409\n",
       "other_languages      0.993733\n",
       "dtype: float64"
      ]
     },
     "execution_count": 60,
     "metadata": {},
     "output_type": "execute_result"
    }
   ],
   "source": [
    "miss = df.isnull().sum()/len(df) #number of missing entries in each feature / number of total entries\n",
    "miss = miss[miss > 0] # keep only those that are greater than \"0 / number of total entries\"\n",
    "miss.sort_values(inplace=True) # sort by percentage ascending\n",
    "miss # display"
   ]
  },
  {
   "cell_type": "markdown",
   "metadata": {},
   "source": [
    "Visualising missing values"
   ]
  },
  {
   "cell_type": "code",
   "execution_count": 61,
   "metadata": {},
   "outputs": [
    {
     "data": {
      "image/png": "[encoded data removed]",
      "text/plain": [
       "<Figure size 432x288 with 1 Axes>"
      ]
     },
     "metadata": {},
     "output_type": "display_data"
    }
   ],
   "source": [
    "miss = miss.to_frame() # convert to a dataframe\n",
    "miss.columns = ['count'] # rename the column as 'count'\n",
    "miss.index.names = ['Name'] # rename index as 'Name'\n",
    "miss['Name'] = miss.index # create a new column of the index\n",
    "\n",
    "#plot the missing value count\n",
    "sns.set(style=\"whitegrid\", color_codes=True)\n",
    "sns.barplot(x = 'Name', y = 'count', data=miss)\n",
    "plt.xticks(rotation = 90)\n",
    "plt.show()"
   ]
  },
  {
   "cell_type": "markdown",
   "metadata": {},
   "source": [
    "Remove if exceeds 25%"
   ]
  },
  {
   "cell_type": "code",
   "execution_count": 62,
   "metadata": {},
   "outputs": [
    {
     "data": {
      "text/plain": [
       "['first_language',\n",
       " 'second_language',\n",
       " 'other_languages',\n",
       " 'member_since',\n",
       " 'last_renewal_date',\n",
       " 'family_identity']"
      ]
     },
     "execution_count": 62,
     "metadata": {},
     "output_type": "execute_result"
    }
   ],
   "source": [
    "droplist_missing = [i for i in df.columns if df[i].isnull().sum()/len(df[i]) > 0.2]\n",
    "droplist_missing  # from df_004"
   ]
  },
  {
   "cell_type": "markdown",
   "metadata": {},
   "source": [
    "### Feature Balance"
   ]
  },
  {
   "cell_type": "markdown",
   "metadata": {},
   "source": [
    "Create a smaller subset of "
   ]
  },
  {
   "cell_type": "code",
   "execution_count": 65,
   "metadata": {},
   "outputs": [
    {
     "data": {
      "text/plain": [
       "label               2\n",
       "first_year         10\n",
       "mem_type            2\n",
       "member_location     9\n",
       "province            3\n",
       "sex                 2\n",
       "grade              13\n",
       "suspended           2\n",
       "camper              2\n",
       "camp_year           2\n",
       "hear_about          2\n",
       "Y1_Age             19\n",
       "checkin_total      39\n",
       "age_category        5\n",
       "season_most         2\n",
       "dtype: int64"
      ]
     },
     "execution_count": 65,
     "metadata": {},
     "output_type": "execute_result"
    }
   ],
   "source": [
    "balance_check = [i for i in df.columns if df[i].nunique() < 50]\n",
    "df_balance_check = df[balance_check]\n",
    "\n",
    "df_balance_check.nunique()"
   ]
  },
  {
   "cell_type": "markdown",
   "metadata": {},
   "source": [
    "Define a function to remove columns that have a value count exceeding 90%"
   ]
  },
  {
   "cell_type": "code",
   "execution_count": 66,
   "metadata": {},
   "outputs": [],
   "source": [
    "def imbalanced_features(df_to_check, threshold = 0.9):\n",
    "    \"\"\"\n",
    "    Returns a list of columns where at least one value count exceeds threshold\n",
    "    \"\"\"\n",
    "    \n",
    "    df_to_output = df_to_check\n",
    "    \n",
    "    for h in df_to_check.columns:\n",
    "        col_val_count = pd.value_counts(df_to_check[h].values, sort=False)  # returns value counts by column\n",
    "        \n",
    "        count = 0\n",
    "        \n",
    "        for i in col_val_count.values:\n",
    "            if i / df_to_check.shape[0] > threshold:\n",
    "                count += 1\n",
    "        \n",
    "        if count > 0:\n",
    "            df_to_output = df_to_output.drop(h, axis = 1)\n",
    "            \n",
    "    list_to_output = df_to_check.drop(df_to_output.columns, axis = 1).columns\n",
    "            \n",
    "    return list_to_output"
   ]
  },
  {
   "cell_type": "markdown",
   "metadata": {},
   "source": [
    "Use function to create list of imbalanced features"
   ]
  },
  {
   "cell_type": "code",
   "execution_count": 67,
   "metadata": {},
   "outputs": [
    {
     "data": {
      "text/plain": [
       "Index(['mem_type', 'province', 'suspended', 'camper', 'camp_year',\n",
       "       'hear_about'],\n",
       "      dtype='object')"
      ]
     },
     "execution_count": 67,
     "metadata": {},
     "output_type": "execute_result"
    }
   ],
   "source": [
    "imbalance = imbalanced_features(df_balance_check, 0.85)\n",
    "imbalance"
   ]
  },
  {
   "cell_type": "markdown",
   "metadata": {},
   "source": [
    "Update df by dropping imbalanced features"
   ]
  },
  {
   "cell_type": "code",
   "execution_count": 68,
   "metadata": {},
   "outputs": [],
   "source": [
    "categorical_features = df_balance_check.drop(imbalance, axis = 1).columns"
   ]
  },
  {
   "cell_type": "code",
   "execution_count": 69,
   "metadata": {},
   "outputs": [
    {
     "data": {
      "image/png": "[encoded data removed]",
      "text/plain": [
       "<Figure size 1296x648 with 9 Axes>"
      ]
     },
     "metadata": {},
     "output_type": "display_data"
    }
   ],
   "source": [
    "# plot parameters\n",
    "ROWS, COLS = 3, 3  # set number of rows and columns for figures\n",
    "\n",
    "fig, ax = plt.subplots(ROWS, COLS, figsize=(18, 9))\n",
    "row, col = 0, 0\n",
    "for i, categorical_feature in enumerate(categorical_features):\n",
    "    if col == COLS - 1:\n",
    "        row += 1\n",
    "    col = i % COLS\n",
    "    df[categorical_feature].value_counts().plot('bar', ax=ax[row, col]).set_title(categorical_feature)"
   ]
  }
 ],
 "metadata": {
  "kernelspec": {
   "display_name": "Python 3",
   "language": "python",
   "name": "python3"
  },
  "language_info": {
   "codemirror_mode": {
    "name": "ipython",
    "version": 3
   },
   "file_extension": ".py",
   "mimetype": "text/x-python",
   "name": "python",
   "nbconvert_exporter": "python",
   "pygments_lexer": "ipython3",
   "version": "3.7.3"
  }
 },
 "nbformat": 4,
 "nbformat_minor": 2
}
