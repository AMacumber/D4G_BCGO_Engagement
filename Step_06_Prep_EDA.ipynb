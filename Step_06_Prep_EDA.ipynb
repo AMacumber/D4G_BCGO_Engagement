{
 "cells": [
  {
   "cell_type": "markdown",
   "metadata": {},
   "source": [
    "# Exploratory Data Analysis\n",
    "\n",
    "org: **D4G**  project: **BGCO**  task: **exploratory data analysis**\n",
    "\n",
    "data: labeled (engage vs. static) dataset highlighting changes in member engagement (visits per week) between first and year of engagement"
   ]
  },
  {
   "cell_type": "markdown",
   "metadata": {},
   "source": [
    "## Prep the environment"
   ]
  },
  {
   "cell_type": "code",
   "execution_count": 1,
   "metadata": {},
   "outputs": [],
   "source": [
    "import pandas as pd  # used to manipulate dataframes\n",
    "import numpy as np # used to manipulate series\n",
    "\n",
    "import seaborn as sns  # needed for visualing\n",
    "import matplotlib.pyplot as plt  # needed for visualing"
   ]
  },
  {
   "cell_type": "markdown",
   "metadata": {},
   "source": [
    "## Data Wrangling\n",
    "\n",
    "### Load Data"
   ]
  },
  {
   "cell_type": "code",
   "execution_count": 21,
   "metadata": {},
   "outputs": [],
   "source": [
    "# read in the dataframe\n",
    "df_001 = pd.read_csv(\"D4G_BGCO_Churn_Labeled_ForEDA.csv\", encoding = \"cp1252\")"
   ]
  },
  {
   "cell_type": "code",
   "execution_count": 22,
   "metadata": {},
   "outputs": [],
   "source": [
    "df = df_001"
   ]
  },
  {
   "cell_type": "code",
   "execution_count": 23,
   "metadata": {},
   "outputs": [
    {
     "name": "stdout",
     "output_type": "stream",
     "text": [
      "The training set has 2234 rows and 12 columns\n"
     ]
    }
   ],
   "source": [
    "print(\"The training set has {0} rows and {1} columns\".format(df.shape[0], df.shape[1]))"
   ]
  },
  {
   "cell_type": "code",
   "execution_count": 24,
   "metadata": {},
   "outputs": [
    {
     "data": {
      "text/html": [
       "<div>\n",
       "<style scoped>\n",
       "    .dataframe tbody tr th:only-of-type {\n",
       "        vertical-align: middle;\n",
       "    }\n",
       "\n",
       "    .dataframe tbody tr th {\n",
       "        vertical-align: top;\n",
       "    }\n",
       "\n",
       "    .dataframe thead th {\n",
       "        text-align: right;\n",
       "    }\n",
       "</style>\n",
       "<table border=\"1\" class=\"dataframe\">\n",
       "  <thead>\n",
       "    <tr style=\"text-align: right;\">\n",
       "      <th></th>\n",
       "      <th>d4g_member_id</th>\n",
       "      <th>label</th>\n",
       "      <th>first_year</th>\n",
       "      <th>member_location</th>\n",
       "      <th>postal_code</th>\n",
       "      <th>sex</th>\n",
       "      <th>d4g_school_id</th>\n",
       "      <th>grade</th>\n",
       "      <th>Y1_Age</th>\n",
       "      <th>checkin_total</th>\n",
       "      <th>age_category</th>\n",
       "      <th>season_most</th>\n",
       "    </tr>\n",
       "  </thead>\n",
       "  <tbody>\n",
       "    <tr>\n",
       "      <th>0</th>\n",
       "      <td>-2145542991</td>\n",
       "      <td>static</td>\n",
       "      <td>2013</td>\n",
       "      <td>BRIT</td>\n",
       "      <td>K2H 8S5</td>\n",
       "      <td>F</td>\n",
       "      <td>26</td>\n",
       "      <td>9.0</td>\n",
       "      <td>10</td>\n",
       "      <td>19</td>\n",
       "      <td>junior</td>\n",
       "      <td>winter</td>\n",
       "    </tr>\n",
       "    <tr>\n",
       "      <th>1</th>\n",
       "      <td>-2145245024</td>\n",
       "      <td>static</td>\n",
       "      <td>2015</td>\n",
       "      <td>RID</td>\n",
       "      <td>NaN</td>\n",
       "      <td>M</td>\n",
       "      <td>-1</td>\n",
       "      <td>0.0</td>\n",
       "      <td>17</td>\n",
       "      <td>1</td>\n",
       "      <td>senior</td>\n",
       "      <td>winter</td>\n",
       "    </tr>\n",
       "    <tr>\n",
       "      <th>2</th>\n",
       "      <td>-2143641867</td>\n",
       "      <td>engaged</td>\n",
       "      <td>2009</td>\n",
       "      <td>BRIT</td>\n",
       "      <td>K2B 8A3</td>\n",
       "      <td>M</td>\n",
       "      <td>37</td>\n",
       "      <td>12.0</td>\n",
       "      <td>11</td>\n",
       "      <td>12</td>\n",
       "      <td>intermediate</td>\n",
       "      <td>winter</td>\n",
       "    </tr>\n",
       "    <tr>\n",
       "      <th>3</th>\n",
       "      <td>-2140123971</td>\n",
       "      <td>static</td>\n",
       "      <td>2013</td>\n",
       "      <td>PYC</td>\n",
       "      <td>K2E 6J5</td>\n",
       "      <td>M</td>\n",
       "      <td>17</td>\n",
       "      <td>9.0</td>\n",
       "      <td>15</td>\n",
       "      <td>1</td>\n",
       "      <td>senior</td>\n",
       "      <td>winter</td>\n",
       "    </tr>\n",
       "    <tr>\n",
       "      <th>4</th>\n",
       "      <td>-2140034903</td>\n",
       "      <td>static</td>\n",
       "      <td>2009</td>\n",
       "      <td>PYC</td>\n",
       "      <td>K2J 0N1</td>\n",
       "      <td>M</td>\n",
       "      <td>67</td>\n",
       "      <td>9.0</td>\n",
       "      <td>7</td>\n",
       "      <td>8</td>\n",
       "      <td>junior</td>\n",
       "      <td>winter</td>\n",
       "    </tr>\n",
       "  </tbody>\n",
       "</table>\n",
       "</div>"
      ],
      "text/plain": [
       "   d4g_member_id    label  first_year member_location postal_code sex  \\\n",
       "0    -2145542991   static        2013            BRIT     K2H 8S5   F   \n",
       "1    -2145245024   static        2015             RID         NaN   M   \n",
       "2    -2143641867  engaged        2009            BRIT     K2B 8A3   M   \n",
       "3    -2140123971   static        2013             PYC     K2E 6J5   M   \n",
       "4    -2140034903   static        2009             PYC     K2J 0N1   M   \n",
       "\n",
       "   d4g_school_id  grade  Y1_Age  checkin_total  age_category season_most  \n",
       "0             26    9.0      10             19        junior      winter  \n",
       "1             -1    0.0      17              1        senior      winter  \n",
       "2             37   12.0      11             12  intermediate      winter  \n",
       "3             17    9.0      15              1        senior      winter  \n",
       "4             67    9.0       7              8        junior      winter  "
      ]
     },
     "execution_count": 24,
     "metadata": {},
     "output_type": "execute_result"
    }
   ],
   "source": [
    "df.head()"
   ]
  },
  {
   "cell_type": "code",
   "execution_count": 25,
   "metadata": {},
   "outputs": [
    {
     "data": {
      "text/plain": [
       "Index(['d4g_member_id', 'label', 'first_year', 'member_location',\n",
       "       'postal_code', 'sex', 'd4g_school_id', 'grade', 'Y1_Age',\n",
       "       'checkin_total', 'age_category', 'season_most'],\n",
       "      dtype='object')"
      ]
     },
     "execution_count": 25,
     "metadata": {},
     "output_type": "execute_result"
    }
   ],
   "source": [
    "df.columns"
   ]
  },
  {
   "cell_type": "markdown",
   "metadata": {},
   "source": [
    "### Organise Features"
   ]
  },
  {
   "cell_type": "code",
   "execution_count": 26,
   "metadata": {},
   "outputs": [],
   "source": [
    "categorical_features = ['member_location', 'postal_code', 'sex', 'age_category', 'season_most']\n",
    "\n",
    "numerical_features = ['first_year', 'd4g_school_id', 'grade', 'Y1_Age', 'checkin_total']\n",
    "\n",
    "target = ['label']"
   ]
  },
  {
   "cell_type": "markdown",
   "metadata": {},
   "source": [
    "## Numerical Features"
   ]
  },
  {
   "cell_type": "code",
   "execution_count": 27,
   "metadata": {},
   "outputs": [
    {
     "data": {
      "text/html": [
       "<div>\n",
       "<style scoped>\n",
       "    .dataframe tbody tr th:only-of-type {\n",
       "        vertical-align: middle;\n",
       "    }\n",
       "\n",
       "    .dataframe tbody tr th {\n",
       "        vertical-align: top;\n",
       "    }\n",
       "\n",
       "    .dataframe thead th {\n",
       "        text-align: right;\n",
       "    }\n",
       "</style>\n",
       "<table border=\"1\" class=\"dataframe\">\n",
       "  <thead>\n",
       "    <tr style=\"text-align: right;\">\n",
       "      <th></th>\n",
       "      <th>first_year</th>\n",
       "      <th>d4g_school_id</th>\n",
       "      <th>grade</th>\n",
       "      <th>Y1_Age</th>\n",
       "      <th>checkin_total</th>\n",
       "    </tr>\n",
       "  </thead>\n",
       "  <tbody>\n",
       "    <tr>\n",
       "      <th>count</th>\n",
       "      <td>2234.000000</td>\n",
       "      <td>2234.000000</td>\n",
       "      <td>2223.000000</td>\n",
       "      <td>2234.000000</td>\n",
       "      <td>2234.000000</td>\n",
       "    </tr>\n",
       "    <tr>\n",
       "      <th>mean</th>\n",
       "      <td>2013.746643</td>\n",
       "      <td>119.914503</td>\n",
       "      <td>6.224471</td>\n",
       "      <td>10.756043</td>\n",
       "      <td>10.514324</td>\n",
       "    </tr>\n",
       "    <tr>\n",
       "      <th>std</th>\n",
       "      <td>2.808454</td>\n",
       "      <td>113.570211</td>\n",
       "      <td>3.558246</td>\n",
       "      <td>3.214669</td>\n",
       "      <td>10.318008</td>\n",
       "    </tr>\n",
       "    <tr>\n",
       "      <th>min</th>\n",
       "      <td>2009.000000</td>\n",
       "      <td>-1.000000</td>\n",
       "      <td>0.000000</td>\n",
       "      <td>0.000000</td>\n",
       "      <td>1.000000</td>\n",
       "    </tr>\n",
       "    <tr>\n",
       "      <th>25%</th>\n",
       "      <td>2012.000000</td>\n",
       "      <td>21.000000</td>\n",
       "      <td>3.000000</td>\n",
       "      <td>8.000000</td>\n",
       "      <td>2.000000</td>\n",
       "    </tr>\n",
       "    <tr>\n",
       "      <th>50%</th>\n",
       "      <td>2014.000000</td>\n",
       "      <td>85.000000</td>\n",
       "      <td>6.000000</td>\n",
       "      <td>11.000000</td>\n",
       "      <td>7.000000</td>\n",
       "    </tr>\n",
       "    <tr>\n",
       "      <th>75%</th>\n",
       "      <td>2016.000000</td>\n",
       "      <td>186.750000</td>\n",
       "      <td>9.000000</td>\n",
       "      <td>13.000000</td>\n",
       "      <td>16.000000</td>\n",
       "    </tr>\n",
       "    <tr>\n",
       "      <th>max</th>\n",
       "      <td>2018.000000</td>\n",
       "      <td>368.000000</td>\n",
       "      <td>12.000000</td>\n",
       "      <td>20.000000</td>\n",
       "      <td>39.000000</td>\n",
       "    </tr>\n",
       "  </tbody>\n",
       "</table>\n",
       "</div>"
      ],
      "text/plain": [
       "        first_year  d4g_school_id        grade       Y1_Age  checkin_total\n",
       "count  2234.000000    2234.000000  2223.000000  2234.000000    2234.000000\n",
       "mean   2013.746643     119.914503     6.224471    10.756043      10.514324\n",
       "std       2.808454     113.570211     3.558246     3.214669      10.318008\n",
       "min    2009.000000      -1.000000     0.000000     0.000000       1.000000\n",
       "25%    2012.000000      21.000000     3.000000     8.000000       2.000000\n",
       "50%    2014.000000      85.000000     6.000000    11.000000       7.000000\n",
       "75%    2016.000000     186.750000     9.000000    13.000000      16.000000\n",
       "max    2018.000000     368.000000    12.000000    20.000000      39.000000"
      ]
     },
     "execution_count": 27,
     "metadata": {},
     "output_type": "execute_result"
    }
   ],
   "source": [
    "df[numerical_features].describe()"
   ]
  },
  {
   "cell_type": "code",
   "execution_count": 28,
   "metadata": {},
   "outputs": [
    {
     "data": {
      "text/plain": [
       "array([[<matplotlib.axes._subplots.AxesSubplot object at 0x00000208392C70B8>,\n",
       "        <matplotlib.axes._subplots.AxesSubplot object at 0x00000208392D0C50>],\n",
       "       [<matplotlib.axes._subplots.AxesSubplot object at 0x00000208392D8E48>,\n",
       "        <matplotlib.axes._subplots.AxesSubplot object at 0x0000020839041400>],\n",
       "       [<matplotlib.axes._subplots.AxesSubplot object at 0x0000020839065978>,\n",
       "        <matplotlib.axes._subplots.AxesSubplot object at 0x000002083908EEF0>]],\n",
       "      dtype=object)"
      ]
     },
     "execution_count": 28,
     "metadata": {},
     "output_type": "execute_result"
    },
    {
     "data": {
      "image/png": "[encoded data removed]",
      "text/plain": [
       "<Figure size 720x504 with 6 Axes>"
      ]
     },
     "metadata": {
      "needs_background": "light"
     },
     "output_type": "display_data"
    }
   ],
   "source": [
    "df[numerical_features].hist(bins=30, figsize=(10, 7))"
   ]
  },
  {
   "cell_type": "code",
   "execution_count": 29,
   "metadata": {},
   "outputs": [
    {
     "data": {
      "text/plain": [
       "array([<matplotlib.axes._subplots.AxesSubplot object at 0x000002083961EC88>,\n",
       "       <matplotlib.axes._subplots.AxesSubplot object at 0x00000208392B7908>,\n",
       "       <matplotlib.axes._subplots.AxesSubplot object at 0x0000020839656E48>,\n",
       "       <matplotlib.axes._subplots.AxesSubplot object at 0x0000020839417400>,\n",
       "       <matplotlib.axes._subplots.AxesSubplot object at 0x000002083943C978>],\n",
       "      dtype=object)"
      ]
     },
     "execution_count": 29,
     "metadata": {},
     "output_type": "execute_result"
    },
    {
     "data": {
      "image/png": "[encoded data removed]",
      "text/plain": [
       "<Figure size 1008x288 with 5 Axes>"
      ]
     },
     "metadata": {
      "needs_background": "light"
     },
     "output_type": "display_data"
    }
   ],
   "source": [
    "fig, ax = plt.subplots(1, 5, figsize=(14, 4))\n",
    "df[df.label == \"static\"][numerical_features].hist(bins=30, color=\"blue\", alpha=0.5, ax=ax)\n",
    "df[df.label == \"engaged\"][numerical_features].hist(bins=30, color=\"red\", alpha=0.5, ax=ax)"
   ]
  }
 ],
 "metadata": {
  "kernelspec": {
   "display_name": "Python 3",
   "language": "python",
   "name": "python3"
  },
  "language_info": {
   "codemirror_mode": {
    "name": "ipython",
    "version": 3
   },
   "file_extension": ".py",
   "mimetype": "text/x-python",
   "name": "python",
   "nbconvert_exporter": "python",
   "pygments_lexer": "ipython3",
   "version": "3.7.3"
  }
 },
 "nbformat": 4,
 "nbformat_minor": 2
}
