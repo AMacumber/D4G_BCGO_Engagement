{
 "cells": [
  {
   "cell_type": "markdown",
   "metadata": {},
   "source": [
    "# Feature evaluation\n",
    "\n",
    "org: **D4G**  project: **BGCO**  task: **feature evaluation**\n",
    "\n",
    "data: labeled (engage vs. static) dataset highlighting changes in member engagement (visits per week) between first and year of engagement"
   ]
  },
  {
   "cell_type": "markdown",
   "metadata": {},
   "source": [
    "## Prep the environment"
   ]
  },
  {
   "cell_type": "code",
   "execution_count": 1,
   "metadata": {},
   "outputs": [],
   "source": [
    "import pandas as pd  # used to manipulate dataframes\n",
    "import numpy as np # used to manipulate series\n",
    "\n",
    "import seaborn as sns  # needed for visualing\n",
    "import matplotlib.pyplot as plt  # needed for visualing"
   ]
  },
  {
   "cell_type": "markdown",
   "metadata": {},
   "source": [
    "## Data Wrangling\n",
    "\n",
    "### Load Data"
   ]
  },
  {
   "cell_type": "code",
   "execution_count": 2,
   "metadata": {},
   "outputs": [],
   "source": [
    "# read in the dataframe\n",
    "# see readme for version info\n",
    "df_001 = pd.read_csv(\"D4G_BGCO_Engage_Labeled_v003.csv\", encoding = \"cp1252\")"
   ]
  },
  {
   "cell_type": "markdown",
   "metadata": {},
   "source": [
    "### Version Control\n",
    "\n",
    "See sections below for details on how filters were created."
   ]
  },
  {
   "cell_type": "code",
   "execution_count": 8,
   "metadata": {},
   "outputs": [],
   "source": [
    "df_002 = df_001.drop(droplist_unique, axis = 1)  # features with no unique values removed"
   ]
  },
  {
   "cell_type": "code",
   "execution_count": 29,
   "metadata": {},
   "outputs": [],
   "source": [
    "df_003 = df_002.drop(['member_identity', 'active', \n",
    "                      'birth_year', 'age', 'grade', 'age_category', 'member_since',\n",
    "                      'city', 'd4g_valid_postal_code', 'postal_code',\n",
    "                      'checkin_avg', 'member_location.y'], \n",
    "                     axis = 1)  # redundant features"
   ]
  },
  {
   "cell_type": "code",
   "execution_count": 30,
   "metadata": {},
   "outputs": [],
   "source": [
    "df_004 = df_003.drop(['member_number', 'd4g_school_id'], axis = 1)  # erroneous aggregation, school_id has many -1"
   ]
  },
  {
   "cell_type": "code",
   "execution_count": 31,
   "metadata": {},
   "outputs": [],
   "source": [
    "df_005 = df_004.drop(droplist_missing, axis = 1)  # missing values exceed 20%"
   ]
  },
  {
   "cell_type": "code",
   "execution_count": 32,
   "metadata": {},
   "outputs": [],
   "source": [
    "df_006 = df_005.drop(imbalance, axis = 1)  # where one value count > 82%"
   ]
  },
  {
   "cell_type": "code",
   "execution_count": 36,
   "metadata": {},
   "outputs": [],
   "source": [
    "df_007 = df_006.drop(['first_year'], axis = 1)  # BGCO cannot control this, irrelevant"
   ]
  },
  {
   "cell_type": "markdown",
   "metadata": {},
   "source": [
    "### Save Data"
   ]
  },
  {
   "cell_type": "code",
   "execution_count": 41,
   "metadata": {},
   "outputs": [],
   "source": [
    "df.to_csv(\"D4G_BGCO_Engage_Labeled_ForEDA_v003.csv\", index = False)"
   ]
  },
  {
   "cell_type": "markdown",
   "metadata": {},
   "source": [
    "## Explore Data"
   ]
  },
  {
   "cell_type": "code",
   "execution_count": 37,
   "metadata": {},
   "outputs": [],
   "source": [
    "df = df_007"
   ]
  },
  {
   "cell_type": "code",
   "execution_count": 38,
   "metadata": {},
   "outputs": [
    {
     "name": "stdout",
     "output_type": "stream",
     "text": [
      "The training set has 1814 rows and 8 columns\n"
     ]
    }
   ],
   "source": [
    "print(\"The training set has {0} rows and {1} columns\".format(df.shape[0], df.shape[1]))"
   ]
  },
  {
   "cell_type": "code",
   "execution_count": 39,
   "metadata": {},
   "outputs": [
    {
     "data": {
      "text/plain": [
       "Index(['d4g_member_id', 'label', 'member_location.x', 'sex', 'Y1_Age',\n",
       "       'checkin_total', 'season_most', 'club_km'],\n",
       "      dtype='object')"
      ]
     },
     "execution_count": 39,
     "metadata": {},
     "output_type": "execute_result"
    }
   ],
   "source": [
    "df.columns"
   ]
  },
  {
   "cell_type": "markdown",
   "metadata": {},
   "source": [
    "### Feature Summary\n",
    "\n",
    "Proposed\n",
    "* visits per week or month to clubhouse in y1 (find out if being a 'busy' clubhouse is a factor)\n",
    "* number of programs offered by clubhouse\n",
    "* when during the week do members visit\n",
    "\n",
    "Key\n",
    "* d4g_member_id (primary key)\n",
    "\n",
    "Behaviour\n",
    "* label (target feature)\n",
    "* total number of visits by member in y1\n",
    "* visits grouped by fall or winter\n",
    "\n",
    "Service\n",
    "* first_year: the first year of engagement\n",
    "* member_location: clubhouse visited\n",
    "\n",
    "Characteristic\n",
    "* Y1_Age: age at first_year\n",
    "* sex\n",
    "* neighborhood (partial)\n",
    "* club_km (partial)\n",
    "* diff_club_min (partial)\n",
    "\n",
    "Conditional Inclusions\n",
    "* first_language (only 60% of the dataset) (missing data)\n",
    "* distance to clubhouse (only 77% of the dataset) (missing data), some of these are erroneous\n"
   ]
  },
  {
   "cell_type": "markdown",
   "metadata": {},
   "source": [
    "### Unique Values\n",
    "\n",
    "Number of unique values, if 1 or less should be removed."
   ]
  },
  {
   "cell_type": "code",
   "execution_count": 6,
   "metadata": {},
   "outputs": [
    {
     "data": {
      "text/plain": [
       "d4g_member_id              1814\n",
       "label                         2\n",
       "first_year                   10\n",
       "member_number              1720\n",
       "mem_type                      2\n",
       "active                        2\n",
       "member_location.x             8\n",
       "city                         21\n",
       "province                      2\n",
       "postal_code                1020\n",
       "d4g_valid_postal_code       586\n",
       "birth_year                   18\n",
       "sex                           2\n",
       "d4g_school_id               167\n",
       "grade                        13\n",
       "first_language                7\n",
       "second_language               9\n",
       "other_languages               6\n",
       "ethnic_origin                 1\n",
       "member_since                911\n",
       "last_renewal_date           650\n",
       "member_type                   0\n",
       "member_fee_paid_to_date       1\n",
       "member_fee_outstanding        1\n",
       "member_fees_total             1\n",
       "suspended                     2\n",
       "camper                        2\n",
       "camp_year                     2\n",
       "member_identity            1814\n",
       "subsidy                       1\n",
       "hear_about                    2\n",
       "family_identity               2\n",
       "age                          18\n",
       "Y1_Age                       18\n",
       "checkin_total                39\n",
       "checkin_avg                  39\n",
       "age_category                  5\n",
       "season_most                   2\n",
       "member_location.y             8\n",
       "club_km                     565\n",
       "dtype: int64"
      ]
     },
     "execution_count": 6,
     "metadata": {},
     "output_type": "execute_result"
    }
   ],
   "source": [
    "df.nunique()"
   ]
  },
  {
   "cell_type": "markdown",
   "metadata": {},
   "source": [
    "Create a list of columns with low unique value counts, then remove then from the dataset (df_001 -> df_002)"
   ]
  },
  {
   "cell_type": "code",
   "execution_count": 7,
   "metadata": {},
   "outputs": [
    {
     "data": {
      "text/plain": [
       "['ethnic_origin',\n",
       " 'member_type',\n",
       " 'member_fee_paid_to_date',\n",
       " 'member_fee_outstanding',\n",
       " 'member_fees_total',\n",
       " 'subsidy']"
      ]
     },
     "execution_count": 7,
     "metadata": {},
     "output_type": "execute_result"
    }
   ],
   "source": [
    "droplist_unique = [i for i in df.columns if df[i].nunique('label') < 2]\n",
    "droplist_unique"
   ]
  },
  {
   "cell_type": "markdown",
   "metadata": {},
   "source": [
    "### Erroneous Aggregation"
   ]
  },
  {
   "cell_type": "markdown",
   "metadata": {},
   "source": [
    "Special case: Member numbers\n",
    "* the duplicates in this feature seem to correspond to different members\n",
    "* thus inclusion erroneously reduces variability, without adding qualifiers"
   ]
  },
  {
   "cell_type": "code",
   "execution_count": null,
   "metadata": {},
   "outputs": [],
   "source": [
    "duplicates = df.duplicated('member_number', keep = False)\n",
    "df_duplicates = df[duplicates]\n",
    "df_duplicates[['member_number','first_year', 'sex', 'Y1_Age']].sort_values(by = 'member_number').head(6)"
   ]
  },
  {
   "cell_type": "markdown",
   "metadata": {},
   "source": [
    "### Missing Values\n",
    "\n",
    "How many features/attributes have missing values? Which ones?\n",
    "* df_004 used to exclude if missing > 20%"
   ]
  },
  {
   "cell_type": "code",
   "execution_count": 13,
   "metadata": {},
   "outputs": [
    {
     "name": "stdout",
     "output_type": "stream",
     "text": [
      "A total of  8 features have missing values\n",
      "They are: Index(['first_language', 'second_language', 'other_languages',\n",
      "       'last_renewal_date', 'camper', 'camp_year', 'hear_about',\n",
      "       'family_identity'],\n",
      "      dtype='object')\n"
     ]
    }
   ],
   "source": [
    "print(\"A total of \", len(df.columns[df.isnull().any()]), \"features have missing values\")\n",
    "print(\"They are:\", df.columns[df.isnull().any()])"
   ]
  },
  {
   "cell_type": "markdown",
   "metadata": {},
   "source": [
    "How many are missing?"
   ]
  },
  {
   "cell_type": "code",
   "execution_count": 14,
   "metadata": {},
   "outputs": [
    {
     "data": {
      "text/plain": [
       "camper                  1\n",
       "camp_year               1\n",
       "hear_about              1\n",
       "first_language        680\n",
       "last_renewal_date     741\n",
       "family_identity      1357\n",
       "second_language      1773\n",
       "other_languages      1803\n",
       "dtype: int64"
      ]
     },
     "execution_count": 14,
     "metadata": {},
     "output_type": "execute_result"
    }
   ],
   "source": [
    "miss = df.isnull().sum() #number of missing entries in each feature / number of total entries\n",
    "miss = miss[miss > 0] # keep only those that are greater than \"0 / number of total entries\"\n",
    "miss.sort_values(inplace=True) # sort by percentage ascending\n",
    "miss # display"
   ]
  },
  {
   "cell_type": "markdown",
   "metadata": {},
   "source": [
    "What is the percentage of missing values?"
   ]
  },
  {
   "cell_type": "code",
   "execution_count": 15,
   "metadata": {},
   "outputs": [
    {
     "data": {
      "text/plain": [
       "camper               0.000551\n",
       "camp_year            0.000551\n",
       "hear_about           0.000551\n",
       "first_language       0.374862\n",
       "last_renewal_date    0.408490\n",
       "family_identity      0.748071\n",
       "second_language      0.977398\n",
       "other_languages      0.993936\n",
       "dtype: float64"
      ]
     },
     "execution_count": 15,
     "metadata": {},
     "output_type": "execute_result"
    }
   ],
   "source": [
    "miss = df.isnull().sum()/len(df) #number of missing entries in each feature / number of total entries\n",
    "miss = miss[miss > 0] # keep only those that are greater than \"0 / number of total entries\"\n",
    "miss.sort_values(inplace=True) # sort by percentage ascending\n",
    "miss # display"
   ]
  },
  {
   "cell_type": "markdown",
   "metadata": {},
   "source": [
    "Visualising missing values"
   ]
  },
  {
   "cell_type": "code",
   "execution_count": 16,
   "metadata": {},
   "outputs": [
    {
     "data": {
      "image/png": "[encoded data removed]",
      "text/plain": [
       "<Figure size 432x288 with 1 Axes>"
      ]
     },
     "metadata": {},
     "output_type": "display_data"
    }
   ],
   "source": [
    "miss = miss.to_frame() # convert to a dataframe\n",
    "miss.columns = ['count'] # rename the column as 'count'\n",
    "miss.index.names = ['Name'] # rename index as 'Name'\n",
    "miss['Name'] = miss.index # create a new column of the index\n",
    "\n",
    "#plot the missing value count\n",
    "sns.set(style=\"whitegrid\", color_codes=True)\n",
    "sns.barplot(x = 'Name', y = 'count', data=miss)\n",
    "plt.xticks(rotation = 90)\n",
    "plt.show()"
   ]
  },
  {
   "cell_type": "markdown",
   "metadata": {},
   "source": [
    "Remove if exceeds 25%"
   ]
  },
  {
   "cell_type": "code",
   "execution_count": 17,
   "metadata": {},
   "outputs": [
    {
     "data": {
      "text/plain": [
       "['first_language',\n",
       " 'second_language',\n",
       " 'other_languages',\n",
       " 'last_renewal_date',\n",
       " 'family_identity']"
      ]
     },
     "execution_count": 17,
     "metadata": {},
     "output_type": "execute_result"
    }
   ],
   "source": [
    "droplist_missing = [i for i in df.columns if df[i].isnull().sum()/len(df[i]) > 0.25]\n",
    "droplist_missing"
   ]
  },
  {
   "cell_type": "markdown",
   "metadata": {},
   "source": [
    "### Feature Balance"
   ]
  },
  {
   "cell_type": "markdown",
   "metadata": {},
   "source": [
    "Create a smaller subset of "
   ]
  },
  {
   "cell_type": "code",
   "execution_count": 20,
   "metadata": {},
   "outputs": [
    {
     "data": {
      "text/plain": [
       "label                 2\n",
       "first_year           10\n",
       "mem_type              2\n",
       "member_location.x     8\n",
       "province              2\n",
       "sex                   2\n",
       "suspended             2\n",
       "camper                2\n",
       "camp_year             2\n",
       "hear_about            2\n",
       "Y1_Age               18\n",
       "checkin_total        39\n",
       "season_most           2\n",
       "member_location.y     8\n",
       "dtype: int64"
      ]
     },
     "execution_count": 20,
     "metadata": {},
     "output_type": "execute_result"
    }
   ],
   "source": [
    "balance_check = [i for i in df.columns if df[i].nunique() < 50]\n",
    "df_balance_check = df[balance_check]\n",
    "\n",
    "df_balance_check.nunique()"
   ]
  },
  {
   "cell_type": "markdown",
   "metadata": {},
   "source": [
    "Define a function to remove columns that have a value count exceeding 90%"
   ]
  },
  {
   "cell_type": "code",
   "execution_count": 21,
   "metadata": {},
   "outputs": [],
   "source": [
    "def imbalanced_features(df_to_check, threshold = 0.9):\n",
    "    \"\"\"\n",
    "    Returns a list of columns where at least one value count exceeds threshold\n",
    "    \"\"\"\n",
    "    \n",
    "    df_to_output = df_to_check\n",
    "    \n",
    "    for h in df_to_check.columns:\n",
    "        col_val_count = pd.value_counts(df_to_check[h].values, sort=False)  # returns value counts by column\n",
    "        \n",
    "        count = 0\n",
    "        \n",
    "        for i in col_val_count.values:\n",
    "            if i / df_to_check.shape[0] > threshold:\n",
    "                count += 1\n",
    "        \n",
    "        if count > 0:\n",
    "            df_to_output = df_to_output.drop(h, axis = 1)\n",
    "            \n",
    "    list_to_output = df_to_check.drop(df_to_output.columns, axis = 1).columns\n",
    "            \n",
    "    return list_to_output"
   ]
  },
  {
   "cell_type": "markdown",
   "metadata": {},
   "source": [
    "Use function to create list of imbalanced features"
   ]
  },
  {
   "cell_type": "code",
   "execution_count": 22,
   "metadata": {},
   "outputs": [
    {
     "data": {
      "text/plain": [
       "Index(['mem_type', 'province', 'suspended', 'camper', 'camp_year',\n",
       "       'hear_about'],\n",
       "      dtype='object')"
      ]
     },
     "execution_count": 22,
     "metadata": {},
     "output_type": "execute_result"
    }
   ],
   "source": [
    "imbalance = imbalanced_features(df_balance_check, 0.82)\n",
    "imbalance"
   ]
  },
  {
   "cell_type": "markdown",
   "metadata": {},
   "source": [
    "Update df by dropping imbalanced features"
   ]
  },
  {
   "cell_type": "code",
   "execution_count": 23,
   "metadata": {},
   "outputs": [],
   "source": [
    "categorical_features = df_balance_check.drop(imbalance, axis = 1).columns"
   ]
  },
  {
   "cell_type": "code",
   "execution_count": 24,
   "metadata": {},
   "outputs": [
    {
     "data": {
      "image/png": "[encoded data removed]",
      "text/plain": [
       "<Figure size 1296x648 with 8 Axes>"
      ]
     },
     "metadata": {},
     "output_type": "display_data"
    }
   ],
   "source": [
    "# plot parameters\n",
    "ROWS, COLS = 4, 2  # set number of rows and columns for figures\n",
    "\n",
    "fig, ax = plt.subplots(ROWS, COLS, figsize=(18, 9))\n",
    "row, col = 0, 0\n",
    "for i, categorical_feature in enumerate(categorical_features):\n",
    "    if col == COLS - 1:\n",
    "        row += 1\n",
    "    col = i % COLS\n",
    "    df[categorical_feature].value_counts().plot('bar', ax=ax[row, col]).set_title(categorical_feature)"
   ]
  }
 ],
 "metadata": {
  "kernelspec": {
   "display_name": "Python 3",
   "language": "python",
   "name": "python3"
  },
  "language_info": {
   "codemirror_mode": {
    "name": "ipython",
    "version": 3
   },
   "file_extension": ".py",
   "mimetype": "text/x-python",
   "name": "python",
   "nbconvert_exporter": "python",
   "pygments_lexer": "ipython3",
   "version": "3.7.3"
  }
 },
 "nbformat": 4,
 "nbformat_minor": 2
}
