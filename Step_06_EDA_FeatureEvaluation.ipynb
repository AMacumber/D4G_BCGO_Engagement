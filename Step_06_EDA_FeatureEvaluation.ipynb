{
 "cells": [
  {
   "cell_type": "markdown",
   "metadata": {},
   "source": [
    "# Feature evaluation\n",
    "\n",
    "org: **D4G**  project: **BGCO**  task: **feature evaluation**\n",
    "\n",
    "data: labeled (engage vs. static) dataset highlighting changes in member engagement (visits per week) between first and year of engagement"
   ]
  },
  {
   "cell_type": "markdown",
   "metadata": {},
   "source": [
    "## Prep the environment"
   ]
  },
  {
   "cell_type": "code",
   "execution_count": 1,
   "metadata": {},
   "outputs": [],
   "source": [
    "import pandas as pd  # used to manipulate dataframes\n",
    "import numpy as np # used to manipulate series\n",
    "\n",
    "import seaborn as sns  # needed for visualing\n",
    "import matplotlib.pyplot as plt  # needed for visualing"
   ]
  },
  {
   "cell_type": "markdown",
   "metadata": {},
   "source": [
    "## Data Wrangling\n",
    "\n",
    "### Load Data"
   ]
  },
  {
   "cell_type": "code",
   "execution_count": 11,
   "metadata": {},
   "outputs": [],
   "source": [
    "# read in the dataframe\n",
    "df_001 = pd.read_csv(\"D4G_BGCO_Engage_Labeled_v002.csv\", encoding = \"cp1252\")"
   ]
  },
  {
   "cell_type": "markdown",
   "metadata": {},
   "source": [
    "### Version Control\n",
    "\n",
    "See sections below for details on how filters were created."
   ]
  },
  {
   "cell_type": "code",
   "execution_count": 16,
   "metadata": {},
   "outputs": [],
   "source": [
    "df_002 = df_001.drop(droplist_unique, axis = 1)  # features with no unique values removed"
   ]
  },
  {
   "cell_type": "code",
   "execution_count": 54,
   "metadata": {},
   "outputs": [],
   "source": [
    "df_003 = df_002.drop(['member_identity', 'active', \n",
    "                      'birth_year', 'age', 'grade', 'age_category', 'member_since',\n",
    "                      'city', 'd4g_valid_postal_code', 'City',\n",
    "                      'checkin_avg'], \n",
    "                     axis = 1)  # redundant features"
   ]
  },
  {
   "cell_type": "code",
   "execution_count": 55,
   "metadata": {},
   "outputs": [],
   "source": [
    "df_004 = df_003.drop(['member_number', 'd4g_school_id'], axis = 1)  # erroneous aggregation, school_id has many -1"
   ]
  },
  {
   "cell_type": "code",
   "execution_count": 56,
   "metadata": {},
   "outputs": [],
   "source": [
    "df_005 = df_004.drop(droplist_missing, axis = 1)  # missing values exceed 20%"
   ]
  },
  {
   "cell_type": "code",
   "execution_count": 63,
   "metadata": {},
   "outputs": [],
   "source": [
    "df_006 = df_005.drop(imbalance, axis = 1)  # where one value count > 82%"
   ]
  },
  {
   "cell_type": "markdown",
   "metadata": {},
   "source": [
    "### Save Data"
   ]
  },
  {
   "cell_type": "code",
   "execution_count": null,
   "metadata": {},
   "outputs": [],
   "source": [
    "df.to_csv(\"D4G_BGCO_Churn_Labeled_ForEDA.csv\", index = False)"
   ]
  },
  {
   "cell_type": "markdown",
   "metadata": {},
   "source": [
    "## Explore Data"
   ]
  },
  {
   "cell_type": "code",
   "execution_count": 64,
   "metadata": {},
   "outputs": [],
   "source": [
    "df = df_006"
   ]
  },
  {
   "cell_type": "code",
   "execution_count": 65,
   "metadata": {},
   "outputs": [
    {
     "name": "stdout",
     "output_type": "stream",
     "text": [
      "The training set has 2234 rows and 26 columns\n"
     ]
    }
   ],
   "source": [
    "print(\"The training set has {0} rows and {1} columns\".format(df.shape[0], df.shape[1]))"
   ]
  },
  {
   "cell_type": "code",
   "execution_count": 66,
   "metadata": {},
   "outputs": [
    {
     "data": {
      "text/plain": [
       "Index(['d4g_member_id', 'label', 'first_year', 'member_location',\n",
       "       'postal_code', 'sex', 'Y1_Age', 'checkin_total', 'season_most',\n",
       "       'Neighborhood', 'dist_to_ADM', 'dist_to_PYC', 'dist_to_BRIT',\n",
       "       'dist_to_MC', 'dist_to_BL', 'dist_to_MYC', 'dist_to_HGT', 'dist_to_RID',\n",
       "       'dist_to_CAMP', 'dist_to_RGM', 'dist_to_HEA', 'dist_to_BAY',\n",
       "       'dist_to_PWH', 'dist_to_BRC', 'dist_to_ROC', 'dist_to_PAL'],\n",
       "      dtype='object')"
      ]
     },
     "execution_count": 66,
     "metadata": {},
     "output_type": "execute_result"
    }
   ],
   "source": [
    "df.columns"
   ]
  },
  {
   "cell_type": "markdown",
   "metadata": {},
   "source": [
    "### Feature Summary\n",
    "\n",
    "Proposed\n",
    "* visits per week or month to clubhouse in y1 (find out if being a 'busy' clubhouse is a factor)\n",
    "* number of programs offered by clubhouse\n",
    "* when during the week do members visit\n",
    "\n",
    "Key\n",
    "* d4g_member_id (primary key)\n",
    "\n",
    "Behaviour\n",
    "* label (target feature)\n",
    "* total number of visits by member in y1\n",
    "* visits grouped by fall or winter\n",
    "\n",
    "Service\n",
    "* first_year: the first year of engagement\n",
    "* member_location: clubhouse visited\n",
    "\n",
    "Characteristic\n",
    "* Y1_Age: age at first_year\n",
    "* sex\n",
    "\n",
    "Conditional Inclusions\n",
    "* first_language (only 60% of the dataset) (missing data)\n",
    "* distance to clubhouse (only 77% of the dataset) (missing data)\n"
   ]
  },
  {
   "cell_type": "markdown",
   "metadata": {},
   "source": [
    "### Unique Values\n",
    "\n",
    "Number of unique values, if 1 or less should be removed."
   ]
  },
  {
   "cell_type": "code",
   "execution_count": 14,
   "metadata": {},
   "outputs": [
    {
     "data": {
      "text/plain": [
       "d4g_member_id              2234\n",
       "label                         2\n",
       "first_year                   10\n",
       "member_number              2106\n",
       "mem_type                      2\n",
       "active                        2\n",
       "member_location               9\n",
       "city                         41\n",
       "province                      3\n",
       "postal_code                1162\n",
       "d4g_valid_postal_code       640\n",
       "birth_year                   19\n",
       "sex                           2\n",
       "d4g_school_id               180\n",
       "grade                        13\n",
       "first_language                8\n",
       "second_language              10\n",
       "other_languages               7\n",
       "ethnic_origin                 1\n",
       "member_since               1042\n",
       "last_renewal_date           756\n",
       "member_type                   0\n",
       "member_fee_paid_to_date       1\n",
       "member_fee_outstanding        1\n",
       "member_fees_total             1\n",
       "suspended                     2\n",
       "camper                        2\n",
       "camp_year                     2\n",
       "member_identity            2234\n",
       "subsidy                       1\n",
       "hear_about                    2\n",
       "family_identity               2\n",
       "age                          19\n",
       "Y1_Age                       19\n",
       "checkin_total                39\n",
       "checkin_avg                  39\n",
       "age_category                  5\n",
       "season_most                   2\n",
       "City                         37\n",
       "Province                      2\n",
       "Neighborhood                121\n",
       "Time.Zone                     1\n",
       "Name                          2\n",
       "Area.Code                     5\n",
       "dist_to_ADM                 981\n",
       "dist_to_PYC                 981\n",
       "dist_to_BRIT                981\n",
       "dist_to_MC                  981\n",
       "dist_to_BL                  981\n",
       "dist_to_MYC                 981\n",
       "dist_to_HGT                 981\n",
       "dist_to_RID                 981\n",
       "dist_to_CAMP                981\n",
       "dist_to_RGM                 981\n",
       "dist_to_HEA                 981\n",
       "dist_to_BAY                 981\n",
       "dist_to_PWH                 981\n",
       "dist_to_BRC                 981\n",
       "dist_to_ROC                 981\n",
       "dist_to_PAL                 981\n",
       "dtype: int64"
      ]
     },
     "execution_count": 14,
     "metadata": {},
     "output_type": "execute_result"
    }
   ],
   "source": [
    "df.nunique()"
   ]
  },
  {
   "cell_type": "markdown",
   "metadata": {},
   "source": [
    "Create a list of columns with low unique value counts"
   ]
  },
  {
   "cell_type": "code",
   "execution_count": 15,
   "metadata": {},
   "outputs": [
    {
     "data": {
      "text/plain": [
       "['ethnic_origin',\n",
       " 'member_type',\n",
       " 'member_fee_paid_to_date',\n",
       " 'member_fee_outstanding',\n",
       " 'member_fees_total',\n",
       " 'subsidy',\n",
       " 'Time.Zone']"
      ]
     },
     "execution_count": 15,
     "metadata": {},
     "output_type": "execute_result"
    }
   ],
   "source": [
    "droplist_unique = [i for i in df.columns if df[i].nunique('label') < 2]\n",
    "droplist_unique  # from df_001"
   ]
  },
  {
   "cell_type": "markdown",
   "metadata": {},
   "source": [
    "### Erroneous Aggregation"
   ]
  },
  {
   "cell_type": "markdown",
   "metadata": {},
   "source": [
    "Special case: Member numbers\n",
    "* the duplicates in this feature seem to correspond to different members\n",
    "* thus inclusion erroneously reduces variability, without adding qualifiers"
   ]
  },
  {
   "cell_type": "code",
   "execution_count": null,
   "metadata": {},
   "outputs": [],
   "source": [
    "duplicates = df.duplicated('member_number', keep = False)\n",
    "df_duplicates = df[duplicates]\n",
    "df_duplicates[['member_number','first_year', 'sex', 'Y1_Age']].sort_values(by = 'member_number').head(6)"
   ]
  },
  {
   "cell_type": "markdown",
   "metadata": {},
   "source": [
    "### Missing Values\n",
    "\n",
    "How many features/attributes have missing values? Which ones?\n",
    "* df_004 used to exclude if missing > 20%"
   ]
  },
  {
   "cell_type": "code",
   "execution_count": 33,
   "metadata": {},
   "outputs": [
    {
     "name": "stdout",
     "output_type": "stream",
     "text": [
      "A total of  30 features have missing values\n",
      "They are: Index(['postal_code', 'first_language', 'second_language', 'other_languages',\n",
      "       'last_renewal_date', 'camper', 'camp_year', 'hear_about',\n",
      "       'family_identity', 'City', 'Province', 'Neighborhood', 'Name',\n",
      "       'Area.Code', 'dist_to_ADM', 'dist_to_PYC', 'dist_to_BRIT', 'dist_to_MC',\n",
      "       'dist_to_BL', 'dist_to_MYC', 'dist_to_HGT', 'dist_to_RID',\n",
      "       'dist_to_CAMP', 'dist_to_RGM', 'dist_to_HEA', 'dist_to_BAY',\n",
      "       'dist_to_PWH', 'dist_to_BRC', 'dist_to_ROC', 'dist_to_PAL'],\n",
      "      dtype='object')\n"
     ]
    }
   ],
   "source": [
    "print(\"A total of \", len(df.columns[df.isnull().any()]), \"features have missing values\")\n",
    "print(\"They are:\", df.columns[df.isnull().any()])"
   ]
  },
  {
   "cell_type": "markdown",
   "metadata": {},
   "source": [
    "How many are missing?"
   ]
  },
  {
   "cell_type": "code",
   "execution_count": 34,
   "metadata": {},
   "outputs": [
    {
     "data": {
      "text/plain": [
       "camper                  1\n",
       "hear_about              1\n",
       "camp_year               5\n",
       "postal_code           251\n",
       "City                  335\n",
       "Province              335\n",
       "Area.Code             340\n",
       "Name                  340\n",
       "Neighborhood          358\n",
       "dist_to_RID           504\n",
       "dist_to_CAMP          504\n",
       "dist_to_RGM           504\n",
       "dist_to_HEA           504\n",
       "dist_to_BAY           504\n",
       "dist_to_PWH           504\n",
       "dist_to_BRC           504\n",
       "dist_to_HGT           504\n",
       "dist_to_MYC           504\n",
       "dist_to_ADM           504\n",
       "dist_to_MC            504\n",
       "dist_to_BRIT          504\n",
       "dist_to_PYC           504\n",
       "dist_to_ROC           504\n",
       "dist_to_BL            504\n",
       "dist_to_PAL           504\n",
       "first_language        836\n",
       "last_renewal_date     914\n",
       "family_identity      1678\n",
       "second_language      2188\n",
       "other_languages      2220\n",
       "dtype: int64"
      ]
     },
     "execution_count": 34,
     "metadata": {},
     "output_type": "execute_result"
    }
   ],
   "source": [
    "miss = df.isnull().sum() #number of missing entries in each feature / number of total entries\n",
    "miss = miss[miss > 0] # keep only those that are greater than \"0 / number of total entries\"\n",
    "miss.sort_values(inplace=True) # sort by percentage ascending\n",
    "miss # display"
   ]
  },
  {
   "cell_type": "markdown",
   "metadata": {},
   "source": [
    "What is the percentage of missing values?"
   ]
  },
  {
   "cell_type": "code",
   "execution_count": 35,
   "metadata": {},
   "outputs": [
    {
     "data": {
      "text/plain": [
       "camper               0.000448\n",
       "hear_about           0.000448\n",
       "camp_year            0.002238\n",
       "postal_code          0.112355\n",
       "City                 0.149955\n",
       "Province             0.149955\n",
       "Area.Code            0.152193\n",
       "Name                 0.152193\n",
       "Neighborhood         0.160251\n",
       "dist_to_RID          0.225604\n",
       "dist_to_CAMP         0.225604\n",
       "dist_to_RGM          0.225604\n",
       "dist_to_HEA          0.225604\n",
       "dist_to_BAY          0.225604\n",
       "dist_to_PWH          0.225604\n",
       "dist_to_BRC          0.225604\n",
       "dist_to_HGT          0.225604\n",
       "dist_to_MYC          0.225604\n",
       "dist_to_ADM          0.225604\n",
       "dist_to_MC           0.225604\n",
       "dist_to_BRIT         0.225604\n",
       "dist_to_PYC          0.225604\n",
       "dist_to_ROC          0.225604\n",
       "dist_to_BL           0.225604\n",
       "dist_to_PAL          0.225604\n",
       "first_language       0.374217\n",
       "last_renewal_date    0.409132\n",
       "family_identity      0.751119\n",
       "second_language      0.979409\n",
       "other_languages      0.993733\n",
       "dtype: float64"
      ]
     },
     "execution_count": 35,
     "metadata": {},
     "output_type": "execute_result"
    }
   ],
   "source": [
    "miss = df.isnull().sum()/len(df) #number of missing entries in each feature / number of total entries\n",
    "miss = miss[miss > 0] # keep only those that are greater than \"0 / number of total entries\"\n",
    "miss.sort_values(inplace=True) # sort by percentage ascending\n",
    "miss # display"
   ]
  },
  {
   "cell_type": "markdown",
   "metadata": {},
   "source": [
    "Visualising missing values"
   ]
  },
  {
   "cell_type": "code",
   "execution_count": 36,
   "metadata": {},
   "outputs": [
    {
     "data": {
      "image/png": "[encoded data removed]",
      "text/plain": [
       "<Figure size 432x288 with 1 Axes>"
      ]
     },
     "metadata": {},
     "output_type": "display_data"
    }
   ],
   "source": [
    "miss = miss.to_frame() # convert to a dataframe\n",
    "miss.columns = ['count'] # rename the column as 'count'\n",
    "miss.index.names = ['Name'] # rename index as 'Name'\n",
    "miss['Name'] = miss.index # create a new column of the index\n",
    "\n",
    "#plot the missing value count\n",
    "sns.set(style=\"whitegrid\", color_codes=True)\n",
    "sns.barplot(x = 'Name', y = 'count', data=miss)\n",
    "plt.xticks(rotation = 90)\n",
    "plt.show()"
   ]
  },
  {
   "cell_type": "markdown",
   "metadata": {},
   "source": [
    "Remove if exceeds 25%"
   ]
  },
  {
   "cell_type": "code",
   "execution_count": 37,
   "metadata": {},
   "outputs": [
    {
     "data": {
      "text/plain": [
       "['first_language',\n",
       " 'second_language',\n",
       " 'other_languages',\n",
       " 'last_renewal_date',\n",
       " 'family_identity']"
      ]
     },
     "execution_count": 37,
     "metadata": {},
     "output_type": "execute_result"
    }
   ],
   "source": [
    "droplist_missing = [i for i in df.columns if df[i].isnull().sum()/len(df[i]) > 0.25]\n",
    "droplist_missing"
   ]
  },
  {
   "cell_type": "markdown",
   "metadata": {},
   "source": [
    "### Feature Balance"
   ]
  },
  {
   "cell_type": "markdown",
   "metadata": {},
   "source": [
    "Create a smaller subset of "
   ]
  },
  {
   "cell_type": "code",
   "execution_count": 59,
   "metadata": {},
   "outputs": [
    {
     "data": {
      "text/plain": [
       "label               2\n",
       "first_year         10\n",
       "mem_type            2\n",
       "member_location     9\n",
       "province            3\n",
       "sex                 2\n",
       "suspended           2\n",
       "camper              2\n",
       "camp_year           2\n",
       "hear_about          2\n",
       "Y1_Age             19\n",
       "checkin_total      39\n",
       "season_most         2\n",
       "Province            2\n",
       "Name                2\n",
       "Area.Code           5\n",
       "dtype: int64"
      ]
     },
     "execution_count": 59,
     "metadata": {},
     "output_type": "execute_result"
    }
   ],
   "source": [
    "balance_check = [i for i in df.columns if df[i].nunique() < 50]\n",
    "df_balance_check = df[balance_check]\n",
    "\n",
    "df_balance_check.nunique()"
   ]
  },
  {
   "cell_type": "markdown",
   "metadata": {},
   "source": [
    "Define a function to remove columns that have a value count exceeding 90%"
   ]
  },
  {
   "cell_type": "code",
   "execution_count": 42,
   "metadata": {},
   "outputs": [],
   "source": [
    "def imbalanced_features(df_to_check, threshold = 0.9):\n",
    "    \"\"\"\n",
    "    Returns a list of columns where at least one value count exceeds threshold\n",
    "    \"\"\"\n",
    "    \n",
    "    df_to_output = df_to_check\n",
    "    \n",
    "    for h in df_to_check.columns:\n",
    "        col_val_count = pd.value_counts(df_to_check[h].values, sort=False)  # returns value counts by column\n",
    "        \n",
    "        count = 0\n",
    "        \n",
    "        for i in col_val_count.values:\n",
    "            if i / df_to_check.shape[0] > threshold:\n",
    "                count += 1\n",
    "        \n",
    "        if count > 0:\n",
    "            df_to_output = df_to_output.drop(h, axis = 1)\n",
    "            \n",
    "    list_to_output = df_to_check.drop(df_to_output.columns, axis = 1).columns\n",
    "            \n",
    "    return list_to_output"
   ]
  },
  {
   "cell_type": "markdown",
   "metadata": {},
   "source": [
    "Use function to create list of imbalanced features"
   ]
  },
  {
   "cell_type": "code",
   "execution_count": 60,
   "metadata": {},
   "outputs": [
    {
     "data": {
      "text/plain": [
       "Index(['mem_type', 'province', 'suspended', 'camper', 'camp_year',\n",
       "       'hear_about', 'Province', 'Name', 'Area.Code'],\n",
       "      dtype='object')"
      ]
     },
     "execution_count": 60,
     "metadata": {},
     "output_type": "execute_result"
    }
   ],
   "source": [
    "imbalance = imbalanced_features(df_balance_check, 0.82)\n",
    "imbalance"
   ]
  },
  {
   "cell_type": "markdown",
   "metadata": {},
   "source": [
    "Update df by dropping imbalanced features"
   ]
  },
  {
   "cell_type": "code",
   "execution_count": 61,
   "metadata": {},
   "outputs": [],
   "source": [
    "categorical_features = df_balance_check.drop(imbalance, axis = 1).columns"
   ]
  },
  {
   "cell_type": "code",
   "execution_count": 62,
   "metadata": {},
   "outputs": [
    {
     "data": {
      "image/png": "[encoded data removed]",
      "text/plain": [
       "<Figure size 1296x648 with 8 Axes>"
      ]
     },
     "metadata": {},
     "output_type": "display_data"
    }
   ],
   "source": [
    "# plot parameters\n",
    "ROWS, COLS = 4, 2  # set number of rows and columns for figures\n",
    "\n",
    "fig, ax = plt.subplots(ROWS, COLS, figsize=(18, 9))\n",
    "row, col = 0, 0\n",
    "for i, categorical_feature in enumerate(categorical_features):\n",
    "    if col == COLS - 1:\n",
    "        row += 1\n",
    "    col = i % COLS\n",
    "    df[categorical_feature].value_counts().plot('bar', ax=ax[row, col]).set_title(categorical_feature)"
   ]
  },
  {
   "cell_type": "markdown",
   "metadata": {},
   "source": [
    "### Transformations: Skewed data"
   ]
  },
  {
   "cell_type": "code",
   "execution_count": null,
   "metadata": {},
   "outputs": [],
   "source": [
    "df['checkin_total'] = pd.qcut(df['checkin_total'], 4, labels = ('D', 'C', 'B', 'A'))\n",
    "\n",
    "df.head()"
   ]
  }
 ],
 "metadata": {
  "kernelspec": {
   "display_name": "Python 3",
   "language": "python",
   "name": "python3"
  },
  "language_info": {
   "codemirror_mode": {
    "name": "ipython",
    "version": 3
   },
   "file_extension": ".py",
   "mimetype": "text/x-python",
   "name": "python",
   "nbconvert_exporter": "python",
   "pygments_lexer": "ipython3",
   "version": "3.7.3"
  }
 },
 "nbformat": 4,
 "nbformat_minor": 2
}
